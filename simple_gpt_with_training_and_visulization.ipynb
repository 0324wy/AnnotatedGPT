{
  "nbformat": 4,
  "nbformat_minor": 0,
  "metadata": {
    "colab": {
      "provenance": [],
      "machine_shape": "hm",
      "gpuType": "T4",
      "toc_visible": true
    },
    "kernelspec": {
      "name": "python3",
      "display_name": "Python 3"
    },
    "language_info": {
      "name": "python"
    },
    "accelerator": "GPU"
  },
  "cells": [
    {
      "cell_type": "code",
      "source": [
        "!pip install -q datasets\n",
        "!pip install -q GPUtil\n",
        "from datasets import load_dataset"
      ],
      "metadata": {
        "id": "ThraGevCPMNl"
      },
      "execution_count": 330,
      "outputs": []
    },
    {
      "cell_type": "code",
      "execution_count": 331,
      "metadata": {
        "id": "QQHsKyWTOu-b"
      },
      "outputs": [],
      "source": [
        "import os\n",
        "from os.path import exists\n",
        "import torch\n",
        "import torch.nn as nn\n",
        "from torch.nn.functional import log_softmax, pad\n",
        "import math\n",
        "import copy\n",
        "import time\n",
        "from torch.optim.lr_scheduler import LambdaLR\n",
        "import pandas as pd\n",
        "import altair as alt\n",
        "from torchtext.data.functional import to_map_style_dataset\n",
        "from torch.utils.data import DataLoader\n",
        "from torchtext.vocab import build_vocab_from_iterator\n",
        "import torchtext.datasets as datasets\n",
        "import spacy\n",
        "import GPUtil\n",
        "import warnings\n",
        "from torch.utils.data.distributed import DistributedSampler\n",
        "import torch.distributed as dist\n",
        "import torch.multiprocessing as mp\n",
        "from torch.nn.parallel import DistributedDataParallel as DDP\n",
        "from torchtext.datasets import WikiText2\n",
        "\n",
        "\n",
        "# Set to False to skip notebook execution (e.g. for debugging)\n",
        "warnings.filterwarnings(\"ignore\")\n",
        "RUN_EXAMPLES = True"
      ]
    },
    {
      "cell_type": "code",
      "source": [
        "def is_interactive_notebook():\n",
        "    return __name__ == \"__main__\"\n",
        "\n",
        "def show_example(fn, args=[]):\n",
        "    if __name__ == \"__main__\" and RUN_EXAMPLES:\n",
        "        return fn(*args)\n",
        "\n",
        "def execute_example(fn, args=[]):\n",
        "    if __name__ == \"__main__\" and RUN_EXAMPLES:\n",
        "        fn(*args)\n",
        "\n",
        "class DummyOptimizer(torch.optim.Optimizer):\n",
        "    def __init__(self):\n",
        "        self.param_groups = [{\"lr\": 0}]\n",
        "        None\n",
        "\n",
        "    def step(self):\n",
        "        None\n",
        "\n",
        "    def zero_grad(self, set_to_none=False):\n",
        "        None\n",
        "\n",
        "\n",
        "class DummyScheduler:\n",
        "    def step(self):\n",
        "        None"
      ],
      "metadata": {
        "id": "imZeou7c2fTi"
      },
      "execution_count": 332,
      "outputs": []
    },
    {
      "cell_type": "markdown",
      "source": [
        "# GPT Model"
      ],
      "metadata": {
        "id": "Bl_CxDcfQW1X"
      }
    },
    {
      "cell_type": "code",
      "source": [
        "class GPT(nn.Module):\n",
        "\n",
        "    def __init__(self, decoder, embed, generator):\n",
        "        super(GPT, self).__init__()\n",
        "        self.decoder = decoder\n",
        "        self.embed = embed\n",
        "        self.generator = generator\n",
        "\n",
        "    def forward(self, x, pad_mask=None):\n",
        "        \"Take in and process masked src and target sequences.\"\n",
        "        return self.decode(x, pad_mask)\n",
        "\n",
        "    def decode(self, x, pad_mask=None):\n",
        "        return self.decoder(self.embed(x), pad_mask)"
      ],
      "metadata": {
        "id": "cJz90pg7PCdo"
      },
      "execution_count": 333,
      "outputs": []
    },
    {
      "cell_type": "markdown",
      "source": [
        "## Generator"
      ],
      "metadata": {
        "id": "KLj5GKqkQaKZ"
      }
    },
    {
      "cell_type": "code",
      "source": [
        "class Generator(nn.Module):\n",
        "    \"Define standard linear + softmax generation step.\"\n",
        "\n",
        "    def __init__(self, d_model, vocab):\n",
        "        super(Generator, self).__init__()\n",
        "        self.proj = nn.Linear(d_model, vocab)\n",
        "\n",
        "    def forward(self, x):\n",
        "        return log_softmax(self.proj(x), dim=-1)"
      ],
      "metadata": {
        "id": "yqk9OnhVQU-p"
      },
      "execution_count": 334,
      "outputs": []
    },
    {
      "cell_type": "code",
      "source": [
        "def clones(module, N):\n",
        "    \"Produce N identical layers.\"\n",
        "    return nn.ModuleList([copy.deepcopy(module) for _ in range(N)])"
      ],
      "metadata": {
        "id": "dJd-OWz-Qiah"
      },
      "execution_count": 335,
      "outputs": []
    },
    {
      "cell_type": "markdown",
      "source": [
        "## LayerNorm"
      ],
      "metadata": {
        "id": "vu6qhON638Wg"
      }
    },
    {
      "cell_type": "code",
      "source": [
        "class LayerNorm(nn.Module):\n",
        "    \"Construct a layernorm module (See citation for details).\"\n",
        "\n",
        "    def __init__(self, features, eps=1e-6):\n",
        "        super(LayerNorm, self).__init__()\n",
        "        self.a_2 = nn.Parameter(torch.ones(features))\n",
        "        self.b_2 = nn.Parameter(torch.zeros(features))\n",
        "        self.eps = eps\n",
        "\n",
        "    def forward(self, x):\n",
        "        mean = x.mean(-1, keepdim=True)\n",
        "        std = x.std(-1, keepdim=True)\n",
        "        return self.a_2 * (x - mean) / (std + self.eps) + self.b_2"
      ],
      "metadata": {
        "id": "ES0lm_Y5QnOF"
      },
      "execution_count": 336,
      "outputs": []
    },
    {
      "cell_type": "code",
      "source": [
        "class SublayerConnection(nn.Module):\n",
        "    \"\"\"\n",
        "    A residual connection followed by a layer norm.\n",
        "    Note for code simplicity the norm is first as opposed to last.\n",
        "    \"\"\"\n",
        "\n",
        "    def __init__(self, size, dropout):\n",
        "        super(SublayerConnection, self).__init__()\n",
        "        self.norm = LayerNorm(size)\n",
        "        self.dropout = nn.Dropout(dropout)\n",
        "\n",
        "    def forward(self, x, sublayer):\n",
        "        \"Apply residual connection to any sublayer with the same size.\"\n",
        "        return x + self.dropout(sublayer(self.norm(x)))"
      ],
      "metadata": {
        "id": "ufyEcj-pQqOh"
      },
      "execution_count": 337,
      "outputs": []
    },
    {
      "cell_type": "markdown",
      "source": [
        "## Decoder"
      ],
      "metadata": {
        "id": "gWI0UcA3Uvux"
      }
    },
    {
      "cell_type": "code",
      "source": [
        "class Decoder(nn.Module):\n",
        "    \"Generic N layer decoder with masking.\"\n",
        "\n",
        "    def __init__(self, layer, N):\n",
        "        super(Decoder, self).__init__()\n",
        "        self.layers = clones(layer, N)\n",
        "        self.norm = LayerNorm(layer.size)\n",
        "\n",
        "    def forward(self, x, pad_mask=None):\n",
        "        for layer in self.layers:\n",
        "            x = layer(x, pad_mask)\n",
        "        return self.norm(x)"
      ],
      "metadata": {
        "id": "y-5zR8S5QwYi"
      },
      "execution_count": 338,
      "outputs": []
    },
    {
      "cell_type": "markdown",
      "source": [
        "## DecoderLayer"
      ],
      "metadata": {
        "id": "Y91HHBYoUxv7"
      }
    },
    {
      "cell_type": "code",
      "source": [
        "class DecoderLayer(nn.Module):\n",
        "    \"Decoder is made of self-attn, src-attn, and feed forward (defined below)\"\n",
        "\n",
        "    def __init__(self, size, self_attn, feed_forward, dropout):\n",
        "        super(DecoderLayer, self).__init__()\n",
        "        self.size = size\n",
        "        self.self_attn = self_attn\n",
        "        self.feed_forward = feed_forward\n",
        "        self.sublayer = clones(SublayerConnection(size, dropout), 2)\n",
        "\n",
        "    def forward(self, x, pad_mask=None):\n",
        "        \"Follow Figure 1 (right) for connections.\"\n",
        "        x = self.sublayer[0](x, lambda x: self.self_attn(x, x, x, pad_mask))\n",
        "        return self.sublayer[1](x, self.feed_forward)"
      ],
      "metadata": {
        "id": "semY8sAkQ6jl"
      },
      "execution_count": 339,
      "outputs": []
    },
    {
      "cell_type": "markdown",
      "source": [
        "## Mask"
      ],
      "metadata": {
        "id": "vaZFNKqV4AHb"
      }
    },
    {
      "cell_type": "code",
      "source": [
        "def subsequent_mask(size):\n",
        "    \"Mask out subsequent positions.\"\n",
        "    attn_shape = (1, size, size)\n",
        "    subsequent_mask = torch.triu(torch.ones(attn_shape), diagonal=1).type(\n",
        "        torch.uint8\n",
        "    )\n",
        "    return subsequent_mask == 0"
      ],
      "metadata": {
        "id": "IkFymFT-RQiG"
      },
      "execution_count": 340,
      "outputs": []
    },
    {
      "cell_type": "markdown",
      "source": [
        "## Attention"
      ],
      "metadata": {
        "id": "-oEhjzZH4FVy"
      }
    },
    {
      "cell_type": "code",
      "source": [
        "def attention(query, key, value, mask=None, dropout=None):\n",
        "    \"Compute 'Scaled Dot Product Attention'\"\n",
        "    d_k = query.size(-1)\n",
        "    scores = torch.matmul(query, key.transpose(-2, -1)) / math.sqrt(d_k)\n",
        "    if mask is not None:\n",
        "\n",
        "        scores = scores.masked_fill(mask == 0, -1e9)\n",
        "    p_attn = scores.softmax(dim=-1)\n",
        "    if dropout is not None:\n",
        "        p_attn = dropout(p_attn)\n",
        "    return torch.matmul(p_attn, value), p_attn"
      ],
      "metadata": {
        "id": "h7mXNDewRVK_"
      },
      "execution_count": 341,
      "outputs": []
    },
    {
      "cell_type": "code",
      "source": [
        "class MultiHeadedAttention(nn.Module):\n",
        "    def __init__(self, h, d_model, dropout=0.1):\n",
        "        \"Take in model size and number of heads.\"\n",
        "        super(MultiHeadedAttention, self).__init__()\n",
        "        assert d_model % h == 0\n",
        "        # We assume d_v always equals d_k\n",
        "        self.d_k = d_model // h\n",
        "        self.h = h\n",
        "        self.linears = clones(nn.Linear(d_model, d_model), 4)\n",
        "        self.attn = None\n",
        "        self.dropout = nn.Dropout(p=dropout)\n",
        "\n",
        "    def forward(self, query, key, value, pad_mask=None):\n",
        "        \"Implements Figure 2\"\n",
        "\n",
        "        # Same mask applied to all h heads and pad\n",
        "        mask = subsequent_mask(query.size(-2))\n",
        "\n",
        "        if pad_mask is not None:\n",
        "            # print(\"pad mask****😷\")\n",
        "            mask = pad_mask & mask.type_as(pad_mask.data)\n",
        "            mask = mask.unsqueeze(1)\n",
        "\n",
        "        nbatches = query.size(0)\n",
        "\n",
        "        # 1) Do all the linear projections in batch from d_model => h x d_k\n",
        "        query, key, value = [\n",
        "            lin(x).view(nbatches, -1, self.h, self.d_k).transpose(1, 2)\n",
        "            for lin, x in zip(self.linears, (query, key, value))\n",
        "        ]\n",
        "\n",
        "        # 2) Apply attention on all the projected vectors in batch.\n",
        "        x, self.attn = attention(\n",
        "            query, key, value, mask=mask, dropout=self.dropout\n",
        "        )\n",
        "\n",
        "        # 3) \"Concat\" using a view and apply a final linear.\n",
        "        x = (\n",
        "            x.transpose(1, 2)\n",
        "            .contiguous()\n",
        "            .view(nbatches, -1, self.h * self.d_k)\n",
        "        )\n",
        "        del query\n",
        "        del key\n",
        "        del value\n",
        "        return self.linears[-1](x)"
      ],
      "metadata": {
        "id": "7U8heQjCRZYw"
      },
      "execution_count": 342,
      "outputs": []
    },
    {
      "cell_type": "code",
      "source": [
        "# tgt = torch.range(1,4)\n",
        "\n",
        "# print(tgt)\n",
        "\n",
        "# pad = 2\n",
        "\n",
        "\n",
        "# tgt_mask = (tgt != pad).unsqueeze(-2)\n",
        "# print(tgt_mask)\n",
        "# print(tgt_mask.shape)\n",
        "# print(subsequent_mask(tgt.size(-1)).type_as(tgt_mask.data).shape)\n",
        "\n",
        "# tgt_mask = tgt_mask & subsequent_mask(tgt.size(-1)).type_as(tgt_mask.data)\n",
        "# print(tgt_mask.shape)\n",
        "# print(tgt_mask)"
      ],
      "metadata": {
        "id": "ct3R9544MSVK"
      },
      "execution_count": 343,
      "outputs": []
    },
    {
      "cell_type": "code",
      "source": [
        "class PositionwiseFeedForward(nn.Module):\n",
        "    \"Implements FFN equation.\"\n",
        "\n",
        "    def __init__(self, d_model, d_ff, dropout=0.1):\n",
        "        super(PositionwiseFeedForward, self).__init__()\n",
        "        self.w_1 = nn.Linear(d_model, d_ff)\n",
        "        self.w_2 = nn.Linear(d_ff, d_model)\n",
        "        self.dropout = nn.Dropout(dropout)\n",
        "\n",
        "    def forward(self, x):\n",
        "        return self.w_2(self.dropout(self.w_1(x).relu()))"
      ],
      "metadata": {
        "id": "CTkZXxVbR4F4"
      },
      "execution_count": 344,
      "outputs": []
    },
    {
      "cell_type": "markdown",
      "source": [
        "## Embedding"
      ],
      "metadata": {
        "id": "yFsW2Yjd4Ka2"
      }
    },
    {
      "cell_type": "code",
      "source": [
        "class Embeddings(nn.Module):\n",
        "    def __init__(self, d_model, vocab):\n",
        "        super(Embeddings, self).__init__()\n",
        "        self.lut = nn.Embedding(vocab, d_model)\n",
        "        self.d_model = d_model\n",
        "\n",
        "    def forward(self, x):\n",
        "        return self.lut(x) * math.sqrt(self.d_model)"
      ],
      "metadata": {
        "id": "IKUasDwwSBeJ"
      },
      "execution_count": 345,
      "outputs": []
    },
    {
      "cell_type": "markdown",
      "source": [
        "## PositionalEncoding"
      ],
      "metadata": {
        "id": "SP_r2qcH4OfM"
      }
    },
    {
      "cell_type": "code",
      "source": [
        "class PositionalEncoding(nn.Module):\n",
        "    \"Implement the PE function.\"\n",
        "\n",
        "    def __init__(self, d_model, dropout, max_len=5000):\n",
        "        super(PositionalEncoding, self).__init__()\n",
        "        self.dropout = nn.Dropout(p=dropout)\n",
        "\n",
        "        # Compute the positional encodings once in log space.\n",
        "        pe = torch.zeros(max_len, d_model)\n",
        "        position = torch.arange(0, max_len).unsqueeze(1)\n",
        "        div_term = torch.exp(\n",
        "            torch.arange(0, d_model, 2) * -(math.log(10000.0) / d_model)\n",
        "        )\n",
        "        pe[:, 0::2] = torch.sin(position * div_term)\n",
        "        pe[:, 1::2] = torch.cos(position * div_term)\n",
        "        pe = pe.unsqueeze(0)\n",
        "        self.register_buffer(\"pe\", pe)\n",
        "\n",
        "    def forward(self, x):\n",
        "        x = x + self.pe[:, : x.size(1)].requires_grad_(False)\n",
        "        return self.dropout(x)"
      ],
      "metadata": {
        "id": "AA_pBm3DSFSr"
      },
      "execution_count": 346,
      "outputs": []
    },
    {
      "cell_type": "markdown",
      "source": [
        "# Full Model"
      ],
      "metadata": {
        "id": "R-WTbls73z_4"
      }
    },
    {
      "cell_type": "code",
      "source": [
        "def make_model(vocab, N=6, d_model=512, d_ff=2048, h=8, dropout=0.1):\n",
        "    \"Helper: Construct a model from hyperparameters.\"\n",
        "    c = copy.deepcopy\n",
        "    attn = MultiHeadedAttention(h, d_model)\n",
        "    ff = PositionwiseFeedForward(d_model, d_ff, dropout)\n",
        "    position = PositionalEncoding(d_model, dropout)\n",
        "    model = GPT(\n",
        "        Decoder(DecoderLayer(d_model, c(attn), c(ff), dropout), N),\n",
        "        nn.Sequential(Embeddings(d_model, vocab), c(position)),\n",
        "        Generator(d_model, vocab),\n",
        "    )\n",
        "\n",
        "    # This was important from their code.\n",
        "    # Initialize parameters with Glorot / fan_avg.\n",
        "    for p in model.parameters():\n",
        "        if p.dim() > 1:\n",
        "            nn.init.xavier_uniform_(p)\n",
        "    return model"
      ],
      "metadata": {
        "id": "neTHDBdmSLCZ"
      },
      "execution_count": 347,
      "outputs": []
    },
    {
      "cell_type": "markdown",
      "source": [
        "# A Simple Example"
      ],
      "metadata": {
        "id": "2YgGh6vS4TBl"
      }
    },
    {
      "cell_type": "code",
      "source": [
        "def inference_test():\n",
        "    test_model = make_model(vocab = 10)\n",
        "    test_model.eval()\n",
        "    x = torch.LongTensor([[1, 2, 3, 4, 5]])\n",
        "\n",
        "    for i in range(6):\n",
        "        out = test_model.decode(x)\n",
        "        prob = test_model.generator(out[:, -1])\n",
        "        _, next_word = torch.max(prob, dim=1)\n",
        "        next_word = next_word.data[0]\n",
        "        x = torch.cat([x, torch.empty(1, 1).type_as(x.data).fill_(next_word)], dim=1)\n",
        "\n",
        "    print(\"Example Untrained Model Prediction:\", x)\n",
        "    return x\n",
        "\n",
        "def run_tests():\n",
        "    for _ in range(10):\n",
        "        inference_test()\n",
        "\n",
        "\n",
        "# show_example(run_tests)"
      ],
      "metadata": {
        "id": "_Y_Y67KlU6fj"
      },
      "execution_count": 348,
      "outputs": []
    },
    {
      "cell_type": "markdown",
      "source": [
        "# Training"
      ],
      "metadata": {
        "id": "wrT9PJ5NJyrM"
      }
    },
    {
      "cell_type": "markdown",
      "source": [
        "## Run Epoch"
      ],
      "metadata": {
        "id": "fSeZ0VH0SgEX"
      }
    },
    {
      "cell_type": "code",
      "source": [
        "class TrainState:\n",
        "    \"\"\"Track number of steps, examples, and tokens processed\"\"\"\n",
        "\n",
        "    step: int = 0  # Steps in the current epoch\n",
        "    accum_step: int = 0  # Number of gradient accumulation steps\n",
        "    samples: int = 0  # total # of examples used\n",
        "    tokens: int = 0  # total # of tokens processed"
      ],
      "metadata": {
        "id": "VlpsMXbpJ0z4"
      },
      "execution_count": 349,
      "outputs": []
    },
    {
      "cell_type": "code",
      "source": [
        "def run_epoch(\n",
        "    data_iter,\n",
        "    model,\n",
        "    loss_compute,\n",
        "    optimizer,\n",
        "    scheduler,\n",
        "    mode=\"train\",\n",
        "    accum_iter=1,\n",
        "    train_state=TrainState(),\n",
        "):\n",
        "    \"\"\"Train a single epoch\"\"\"\n",
        "    start = time.time()\n",
        "    total_tokens = 0\n",
        "    total_loss = 0\n",
        "    tokens = 0\n",
        "    n_accum = 0\n",
        "    for i, batch in enumerate(data_iter):\n",
        "        out = model.forward(batch.x, batch.pad_mask)\n",
        "        loss, loss_node = loss_compute(out, batch.y, batch.ntokens)\n",
        "        # loss_node = loss_node / accum_iter\n",
        "        if mode == \"train\" or mode == \"train+log\":\n",
        "            loss_node.backward()\n",
        "            train_state.step += 1\n",
        "            train_state.samples += batch.x.shape[0]\n",
        "            train_state.tokens += batch.ntokens\n",
        "            if i % accum_iter == 0:\n",
        "                optimizer.step()\n",
        "                optimizer.zero_grad(set_to_none=True)\n",
        "                n_accum += 1\n",
        "                train_state.accum_step += 1\n",
        "            scheduler.step()\n",
        "\n",
        "        total_loss += loss\n",
        "        total_tokens += batch.ntokens\n",
        "        tokens += batch.ntokens\n",
        "        if i % 40 == 1 and (mode == \"train\" or mode == \"train+log\"):\n",
        "            lr = optimizer.param_groups[0][\"lr\"]\n",
        "            elapsed = time.time() - start\n",
        "            print(\n",
        "                (\n",
        "                    \"Epoch Step: %6d | Accumulation Step: %3d | Loss: %6.2f \"\n",
        "                    + \"| Tokens / Sec: %7.1f | Learning Rate: %6.1e\"\n",
        "                )\n",
        "                % (i, n_accum, loss / batch.ntokens, tokens / elapsed, lr)\n",
        "            )\n",
        "            start = time.time()\n",
        "            tokens = 0\n",
        "        del loss\n",
        "        del loss_node\n",
        "    return total_loss / total_tokens, train_state"
      ],
      "metadata": {
        "id": "O-4bJXe_J-E3"
      },
      "execution_count": 350,
      "outputs": []
    },
    {
      "cell_type": "code",
      "source": [
        "def rate(step, model_size, factor, warmup):\n",
        "    \"\"\"\n",
        "    we have to default the step to 1 for LambdaLR function\n",
        "    to avoid zero raising to negative power.\n",
        "    \"\"\"\n",
        "    if step == 0:\n",
        "        step = 1\n",
        "    return factor * (\n",
        "        model_size ** (-0.5) * min(step ** (-0.5), step * warmup ** (-1.5))\n",
        "    )"
      ],
      "metadata": {
        "id": "CLRH67ANRvdN"
      },
      "execution_count": 351,
      "outputs": []
    },
    {
      "cell_type": "markdown",
      "source": [
        "## Loss Computation"
      ],
      "metadata": {
        "id": "jL7JndC8Soq3"
      }
    },
    {
      "cell_type": "code",
      "source": [
        "class SimpleLossCompute:\n",
        "    \"A simple loss compute and train function.\"\n",
        "\n",
        "    def __init__(self, generator, criterion):\n",
        "        self.generator = generator\n",
        "        self.criterion = criterion\n",
        "\n",
        "    def __call__(self, x, y, norm):\n",
        "        x = self.generator(x)\n",
        "        sloss = (\n",
        "            self.criterion(\n",
        "                x.contiguous().view(-1, x.size(-1)), y.contiguous().view(-1)\n",
        "            )\n",
        "            / norm\n",
        "        )\n",
        "        return sloss.data * norm, sloss"
      ],
      "metadata": {
        "id": "TFLzX6YzSmVo"
      },
      "execution_count": 352,
      "outputs": []
    },
    {
      "cell_type": "markdown",
      "source": [
        "## Label Smoothing"
      ],
      "metadata": {
        "id": "-TlH67BwBhEA"
      }
    },
    {
      "cell_type": "code",
      "source": [
        "class LabelSmoothing(nn.Module):\n",
        "    \"Implement label smoothing.\"\n",
        "\n",
        "    def __init__(self, size, padding_idx, smoothing=0.0):\n",
        "        super(LabelSmoothing, self).__init__()\n",
        "        self.criterion = nn.KLDivLoss(reduction=\"sum\")\n",
        "        self.padding_idx = padding_idx\n",
        "        self.confidence = 1.0 - smoothing\n",
        "        self.smoothing = smoothing\n",
        "        self.size = size\n",
        "        self.true_dist = None\n",
        "\n",
        "    def forward(self, x, target):\n",
        "        assert x.size(1) == self.size\n",
        "        true_dist = x.data.clone()\n",
        "        true_dist.fill_(self.smoothing / (self.size - 2))\n",
        "        true_dist.scatter_(1, target.data.unsqueeze(1), self.confidence)\n",
        "        true_dist[:, self.padding_idx] = 0\n",
        "        mask = torch.nonzero(target.data == self.padding_idx)\n",
        "        if mask.dim() > 0:\n",
        "            true_dist.index_fill_(0, mask.squeeze(), 0.0)\n",
        "        self.true_dist = true_dist\n",
        "        return self.criterion(x, true_dist.clone().detach())"
      ],
      "metadata": {
        "id": "VL6ku6GEjDls"
      },
      "execution_count": 353,
      "outputs": []
    },
    {
      "cell_type": "markdown",
      "source": [
        "## Greedy Decode"
      ],
      "metadata": {
        "id": "X0Gk9XtTBoJ7"
      }
    },
    {
      "cell_type": "code",
      "source": [
        "def greedy_decode(model, x, max_len):\n",
        "    ys = []\n",
        "    for i in range(max_len):\n",
        "        out = model.decode(x)\n",
        "        prob = model.generator(out[:, -1])\n",
        "        _, next_word = torch.max(prob, dim=1)\n",
        "        next_word = next_word.data\n",
        "        ys.append(next_word)\n",
        "    return torch.stack(ys, dim=1).type_as(x)"
      ],
      "metadata": {
        "id": "c40Ldu45StKo"
      },
      "execution_count": 354,
      "outputs": []
    },
    {
      "cell_type": "markdown",
      "source": [
        "## Batch"
      ],
      "metadata": {
        "id": "wLRlWpsVCdVu"
      }
    },
    {
      "cell_type": "code",
      "source": [
        "class Batch:\n",
        "    \"\"\"Object for holding a batch of data with mask during training.\"\"\"\n",
        "\n",
        "    def __init__(self, x, y, pad=None): # 2 = <blank>\n",
        "        self.x = x\n",
        "\n",
        "        self.y = y\n",
        "        # print(\"self x.shape\", self.x.shape)\n",
        "        self.ntokens = self.y.data.numel()\n",
        "        self.pad_mask = None\n",
        "        if pad:\n",
        "            self.ntokens = (self.y != pad).data.sum()\n",
        "\n",
        "            # todo\n",
        "            self.pad_mask = (x != pad).unsqueeze(-2)"
      ],
      "metadata": {
        "id": "rh9nFWagUfXL"
      },
      "execution_count": 355,
      "outputs": []
    },
    {
      "cell_type": "markdown",
      "source": [
        "## Data Generation"
      ],
      "metadata": {
        "id": "EH7Y2NrqBrnA"
      }
    },
    {
      "cell_type": "code",
      "source": [
        "def data_gen(V, batch_size, nbatches):\n",
        "    for i in range(nbatches):\n",
        "\n",
        "        random_row_values = torch.randint(0, V, (batch_size, 1))\n",
        "\n",
        "        data = random_row_values.repeat(1, 10)\n",
        "\n",
        "        src = data.requires_grad_(False).clone().detach()\n",
        "        yield Batch(src[:, :-1], src[:, 1:])"
      ],
      "metadata": {
        "id": "uqYf6k2bTpmj"
      },
      "execution_count": 356,
      "outputs": []
    },
    {
      "cell_type": "markdown",
      "source": [
        "## Training Process"
      ],
      "metadata": {
        "id": "Rs88qZISv7xj"
      }
    },
    {
      "cell_type": "code",
      "source": [
        "def example_simple_model():\n",
        "    V = 11\n",
        "    criterion = LabelSmoothing(size=V, padding_idx=0, smoothing=0.0)\n",
        "    model = make_model(V)\n",
        "\n",
        "    optimizer = torch.optim.Adam(\n",
        "        model.parameters(), lr=0.5, betas=(0.9, 0.98), eps=1e-9\n",
        "    )\n",
        "    lr_scheduler = LambdaLR(\n",
        "        optimizer=optimizer,\n",
        "        lr_lambda=lambda step: rate(\n",
        "            step, model_size=model.embed[0].d_model, factor=1.0, warmup=400\n",
        "        ),\n",
        "    )\n",
        "\n",
        "    batch_size = 80\n",
        "    for epoch in range(4):\n",
        "        model.train()\n",
        "        run_epoch(\n",
        "            data_gen(V, batch_size, 20),\n",
        "            model,\n",
        "            SimpleLossCompute(model.generator, criterion),\n",
        "            optimizer,\n",
        "            lr_scheduler,\n",
        "            mode=\"train\",\n",
        "        )\n",
        "        model.eval()\n",
        "        run_epoch(\n",
        "            data_gen(V, batch_size, 5),\n",
        "            model,\n",
        "            SimpleLossCompute(model.generator, criterion),\n",
        "            DummyOptimizer(),\n",
        "            DummyScheduler(),\n",
        "            mode=\"eval\",\n",
        "        )[0]\n",
        "\n",
        "    # model.eval()\n",
        "    # src = torch.LongTensor([[2, 2, 2]])\n",
        "    # max_len = src.shape[1]\n",
        "    # print(greedy_decode(model, src, max_len=max_len))\n",
        "\n",
        "    return model\n",
        "\n",
        "\n",
        "# execute_example(example_simple_model)"
      ],
      "metadata": {
        "id": "LehivH7gTgHj"
      },
      "execution_count": 357,
      "outputs": []
    },
    {
      "cell_type": "code",
      "source": [
        "# model = example_simple_model()"
      ],
      "metadata": {
        "id": "ITfxHyCXZpCV"
      },
      "execution_count": 358,
      "outputs": []
    },
    {
      "cell_type": "code",
      "source": [
        "# model.eval()\n",
        "# src = torch.LongTensor([[3, 3], [1,1]])\n",
        "# max_len = src.shape[1]\n",
        "# print(greedy_decode(model, src, max_len))"
      ],
      "metadata": {
        "id": "t0-bUjmfZ112"
      },
      "execution_count": 359,
      "outputs": []
    },
    {
      "cell_type": "markdown",
      "source": [
        "# A Real World Example"
      ],
      "metadata": {
        "id": "jCxBfVrZCH-X"
      }
    },
    {
      "cell_type": "markdown",
      "source": [
        "## Data Loading"
      ],
      "metadata": {
        "id": "GxAX7o_qJrVX"
      }
    },
    {
      "cell_type": "code",
      "source": [
        "# Load spacy tokenizer models, download them if they haven't been\n",
        "# downloaded already\n",
        "\n",
        "\n",
        "def load_tokenizers():\n",
        "\n",
        "    try:\n",
        "        spacy_en = spacy.load(\"en_core_web_sm\")\n",
        "    except IOError:\n",
        "        os.system(\"python -m spacy download en_core_web_sm\")\n",
        "        spacy_en = spacy.load(\"en_core_web_sm\")\n",
        "\n",
        "    return spacy_en"
      ],
      "metadata": {
        "id": "yp74rtwMCNjM"
      },
      "execution_count": 360,
      "outputs": []
    },
    {
      "cell_type": "code",
      "source": [
        "def tokenize(text, tokenizer):\n",
        "    return [tok.text for tok in tokenizer.tokenizer(text)]\n",
        "\n",
        "\n",
        "def yield_tokens(data_iter, tokenizer):\n",
        "    for from_to_tuple in data_iter:\n",
        "        # print(from_to_tuple[index])\n",
        "        yield tokenizer(from_to_tuple)\n"
      ],
      "metadata": {
        "id": "l9bJERAaJ8T2"
      },
      "execution_count": 361,
      "outputs": []
    },
    {
      "cell_type": "code",
      "source": [
        "def build_vocabulary(spacy_en):\n",
        "\n",
        "    def tokenize_en(text):\n",
        "        return tokenize(text, spacy_en)\n",
        "\n",
        "    print(\"Building English Vocabulary ...\")\n",
        "    # Load the training, validation, and test datasets\n",
        "\n",
        "    dataset = load_dataset(\"wikitext\", \"wikitext-2-v1\")\n",
        "    train, test, val = dataset['train']['text'], dataset['test']['text'], dataset['validation']['text']\n",
        "\n",
        "    vocab = build_vocab_from_iterator(\n",
        "        yield_tokens(train + test + val, tokenize_en),\n",
        "        min_freq=2,\n",
        "        specials=[\"<s>\", \"</s>\", \"<blank>\", \"<unk>\"],\n",
        "    )\n",
        "\n",
        "    vocab.set_default_index(vocab[\"<unk>\"])\n",
        "\n",
        "    return vocab\n",
        "\n",
        "\n",
        "def load_vocab(spacy_en):\n",
        "    if not exists(\"vocab.pt\"):\n",
        "        vocab = build_vocabulary(spacy_en)\n",
        "        torch.save((vocab), \"vocab.pt\")\n",
        "    else:\n",
        "        vocab = torch.load(\"vocab.pt\")\n",
        "    print(\"Finished.\\nVocabulary sizes:\")\n",
        "    print(len(vocab))\n",
        "    return vocab\n",
        "\n",
        "\n",
        "if is_interactive_notebook():\n",
        "    # global variables used later in the script\n",
        "    spacy_en = show_example(load_tokenizers)\n",
        "    vocab = show_example(load_vocab, args=[spacy_en])"
      ],
      "metadata": {
        "colab": {
          "base_uri": "https://localhost:8080/"
        },
        "id": "1VdhjvlxKLnC",
        "outputId": "cfa4a9e1-b598-4681-ce6f-728e634fd517"
      },
      "execution_count": 362,
      "outputs": [
        {
          "output_type": "stream",
          "name": "stdout",
          "text": [
            "Finished.\n",
            "Vocabulary sizes:\n",
            "33245\n"
          ]
        }
      ]
    },
    {
      "cell_type": "code",
      "source": [
        "dataset = load_dataset(\"wikitext\", \"wikitext-2-v1\")\n",
        "train, test, val = dataset['train']['text'], dataset['test']['text'], dataset['validation']['text']"
      ],
      "metadata": {
        "id": "ucFQsUsPN6f6"
      },
      "execution_count": 363,
      "outputs": []
    },
    {
      "cell_type": "code",
      "source": [
        "train_iter_map = to_map_style_dataset(train)"
      ],
      "metadata": {
        "id": "GZ0cijZbN_BK"
      },
      "execution_count": 364,
      "outputs": []
    },
    {
      "cell_type": "markdown",
      "source": [
        "## Iterators"
      ],
      "metadata": {
        "id": "7MS5hJEkKgv0"
      }
    },
    {
      "cell_type": "code",
      "source": [
        "def collate_batch(\n",
        "    batch,\n",
        "    pipeline,\n",
        "    vocab,\n",
        "    device,\n",
        "    max_padding=128,\n",
        "    pad_id=2,\n",
        "):\n",
        "    bs_id = torch.tensor([0], device=device)  # <s> token id\n",
        "    eos_id = torch.tensor([1], device=device)  # </s> token id\n",
        "    x_list, y_list = [], []\n",
        "    for _src in batch:\n",
        "        _x = _src[:-1]\n",
        "        _y = _src[1:]\n",
        "        processed_x = torch.cat(\n",
        "            [\n",
        "                bs_id,\n",
        "                torch.tensor(\n",
        "                    vocab(pipeline(_x)),\n",
        "                    dtype=torch.int64,\n",
        "                    device=device,\n",
        "                ),\n",
        "                eos_id,\n",
        "            ],\n",
        "            0,\n",
        "        )\n",
        "        processed_y = torch.cat(\n",
        "            [\n",
        "                bs_id,\n",
        "                torch.tensor(\n",
        "                    vocab(pipeline(_y)),\n",
        "                    dtype=torch.int64,\n",
        "                    device=device,\n",
        "                ),\n",
        "                eos_id,\n",
        "            ],\n",
        "            0,\n",
        "        )\n",
        "        x_list.append(\n",
        "            # warning - overwrites values for negative values of padding - len\n",
        "            pad(\n",
        "                processed_x,\n",
        "                (\n",
        "                    0,\n",
        "                    max_padding - len(processed_x),\n",
        "                ),\n",
        "                value=pad_id,\n",
        "            )\n",
        "        )\n",
        "        y_list.append(\n",
        "            pad(\n",
        "                processed_y,\n",
        "                (0, max_padding - len(processed_y)),\n",
        "                value=pad_id,\n",
        "            )\n",
        "        )\n",
        "\n",
        "    x = torch.stack(x_list)\n",
        "    y = torch.stack(y_list)\n",
        "    return (x, y)"
      ],
      "metadata": {
        "id": "XINu_mT1oyAd"
      },
      "execution_count": 365,
      "outputs": []
    },
    {
      "cell_type": "code",
      "source": [
        "def create_dataloaders(\n",
        "    device,\n",
        "    vocab,\n",
        "    spacy_en,\n",
        "    batch_size=12000,\n",
        "    max_padding=128,\n",
        "    is_distributed=True,\n",
        "):\n",
        "\n",
        "    def tokenize_en(text):\n",
        "        return tokenize(text, spacy_en)\n",
        "\n",
        "    def collate_fn(batch):\n",
        "        return collate_batch(\n",
        "            batch,\n",
        "            tokenize_en,\n",
        "            vocab,\n",
        "            device,\n",
        "            max_padding=max_padding,\n",
        "            pad_id=vocab.get_stoi()[\"<blank>\"],\n",
        "        )\n",
        "\n",
        "    dataset = load_dataset(\"wikitext\", \"wikitext-2-v1\")\n",
        "    train_iter, test_iter, valid_iter = dataset['train']['text'], dataset['test']['text'], dataset['validation']['text']\n",
        "\n",
        "    train_iter_map = to_map_style_dataset(\n",
        "        train_iter\n",
        "    )  # DistributedSampler needs a dataset len()\n",
        "    train_sampler = (\n",
        "        DistributedSampler(train_iter_map) if is_distributed else None\n",
        "    )\n",
        "    valid_iter_map = to_map_style_dataset(valid_iter)\n",
        "    valid_sampler = (\n",
        "        DistributedSampler(valid_iter_map) if is_distributed else None\n",
        "    )\n",
        "\n",
        "    test_iter_map = to_map_style_dataset(test_iter)\n",
        "    test_sampler = (\n",
        "        DistributedSampler(test_iter_map) if is_distributed else None\n",
        "    )\n",
        "\n",
        "    train_dataloader = DataLoader(\n",
        "        train_iter_map,\n",
        "        batch_size=batch_size,\n",
        "        shuffle=(train_sampler is None),\n",
        "        sampler=train_sampler,\n",
        "        collate_fn=collate_fn,\n",
        "    )\n",
        "    valid_dataloader = DataLoader(\n",
        "        valid_iter_map,\n",
        "        batch_size=batch_size,\n",
        "        shuffle=(valid_sampler is None),\n",
        "        sampler=valid_sampler,\n",
        "        collate_fn=collate_fn,\n",
        "    )\n",
        "    test_dataloader = DataLoader(\n",
        "        test_iter_map,\n",
        "        batch_size=batch_size,\n",
        "        shuffle=(test_sampler is None),\n",
        "        sampler=test_sampler,\n",
        "        collate_fn=collate_fn,\n",
        "    )\n",
        "    return train_dataloader, valid_dataloader, test_dataloader"
      ],
      "metadata": {
        "id": "l7Cugyv9o8Wt"
      },
      "execution_count": 366,
      "outputs": []
    },
    {
      "cell_type": "markdown",
      "source": [
        "## Train the System"
      ],
      "metadata": {
        "id": "SceZ2Zc9SEhv"
      }
    },
    {
      "cell_type": "code",
      "source": [
        "def train_worker(\n",
        "    gpu,\n",
        "    ngpus_per_node,\n",
        "    vocab,\n",
        "    spacy_en,\n",
        "    config,\n",
        "    is_distributed=False,\n",
        "):\n",
        "    print(f\"Train worker process using GPU: {gpu} for training\", flush=True)\n",
        "    torch.cuda.set_device(gpu)\n",
        "\n",
        "    pad_idx = vocab[\"<blank>\"]\n",
        "    d_model = 512\n",
        "    model = make_model(len(vocab))\n",
        "    model.cuda(gpu)\n",
        "    module = model\n",
        "    is_main_process = True\n",
        "    if is_distributed:\n",
        "        dist.init_process_group(\n",
        "            \"nccl\", init_method=\"env://\", rank=gpu, world_size=ngpus_per_node\n",
        "        )\n",
        "        model = DDP(model, device_ids=[gpu])\n",
        "        module = model.module\n",
        "        is_main_process = gpu == 0\n",
        "\n",
        "    criterion = LabelSmoothing(\n",
        "        size=len(vocab), padding_idx=pad_idx, smoothing=0.1\n",
        "    )\n",
        "    criterion.cuda(gpu)\n",
        "\n",
        "    train_dataloader, valid_dataloader, _ = create_dataloaders(\n",
        "        gpu,\n",
        "        vocab,\n",
        "        spacy_en,\n",
        "        batch_size=config[\"batch_size\"] // ngpus_per_node,\n",
        "        max_padding=config[\"max_padding\"],\n",
        "        is_distributed=is_distributed,\n",
        "    )\n",
        "\n",
        "    optimizer = torch.optim.Adam(\n",
        "        model.parameters(), lr=config[\"base_lr\"], betas=(0.9, 0.98), eps=1e-9\n",
        "    )\n",
        "    lr_scheduler = LambdaLR(\n",
        "        optimizer=optimizer,\n",
        "        lr_lambda=lambda step: rate(\n",
        "            step, d_model, factor=1, warmup=config[\"warmup\"]\n",
        "        ),\n",
        "    )\n",
        "    train_state = TrainState()\n",
        "\n",
        "    for epoch in range(config[\"num_epochs\"]):\n",
        "        if is_distributed:\n",
        "            train_dataloader.sampler.set_epoch(epoch)\n",
        "            valid_dataloader.sampler.set_epoch(epoch)\n",
        "\n",
        "        model.train()\n",
        "        print(f\"[GPU{gpu}] Epoch {epoch} Training ====\", flush=True)\n",
        "        _, train_state = run_epoch(\n",
        "            (Batch(b[0], b[1], pad_idx) for b in train_dataloader),\n",
        "            model,\n",
        "            SimpleLossCompute(module.generator, criterion),\n",
        "            optimizer,\n",
        "            lr_scheduler,\n",
        "            mode=\"train+log\",\n",
        "            accum_iter=config[\"accum_iter\"],\n",
        "            train_state=train_state,\n",
        "        )\n",
        "\n",
        "        GPUtil.showUtilization()\n",
        "        if is_main_process:\n",
        "            file_path = \"%s%.2d.pt\" % (config[\"file_prefix\"], epoch)\n",
        "            torch.save(module.state_dict(), file_path)\n",
        "        torch.cuda.empty_cache()\n",
        "\n",
        "        print(f\"[GPU{gpu}] Epoch {epoch} Validation ====\", flush=True)\n",
        "        model.eval()\n",
        "        sloss = run_epoch(\n",
        "            (Batch(b[0], b[1], pad_idx) for b in valid_dataloader),\n",
        "            model,\n",
        "            SimpleLossCompute(module.generator, criterion),\n",
        "            DummyOptimizer(),\n",
        "            DummyScheduler(),\n",
        "            mode=\"eval\",\n",
        "        )\n",
        "        print(sloss)\n",
        "        torch.cuda.empty_cache()\n",
        "\n",
        "    if is_main_process:\n",
        "        file_path = \"%sfinal.pt\" % config[\"file_prefix\"]\n",
        "        torch.save(module.state_dict(), file_path)"
      ],
      "metadata": {
        "id": "gHf8KPnASB6S"
      },
      "execution_count": 367,
      "outputs": []
    },
    {
      "cell_type": "code",
      "source": [
        "def train_distributed_model(vocab, spacy_en, config):\n",
        "    # from the_annotated_transformer import train_worker\n",
        "\n",
        "    ngpus = torch.cuda.device_count()\n",
        "    os.environ[\"MASTER_ADDR\"] = \"localhost\"\n",
        "    os.environ[\"MASTER_PORT\"] = \"12356\"\n",
        "    print(f\"Number of GPUs detected: {ngpus}\")\n",
        "    print(\"Spawning training processes ...\")\n",
        "    mp.spawn(\n",
        "        train_worker,\n",
        "        nprocs=ngpus,\n",
        "        args=(ngpus, vocab, spacy_en, config, True),\n",
        "    )\n",
        "\n",
        "\n",
        "def train_model(vocab, spacy_en, config):\n",
        "    if config[\"distributed\"]:\n",
        "        train_distributed_model(vocab, spacy_en, config)\n",
        "    else:\n",
        "        train_worker(0, 1, vocab, spacy_en, config, False)\n",
        "\n",
        "\n",
        "def load_trained_model(config):\n",
        "    model_path = \"%sfinal.pt\" % config[\"file_prefix\"]\n",
        "    if not exists(model_path):\n",
        "        train_model(vocab, spacy_en, config)\n",
        "\n",
        "    model = make_model(len(vocab), N=6)\n",
        "    model.load_state_dict(torch.load(model_path))\n",
        "    return model\n",
        "\n",
        "\n",
        "if is_interactive_notebook():\n",
        "    config = {\n",
        "      \"batch_size\": 32,\n",
        "      \"distributed\": False,\n",
        "      \"num_epochs\": 8,\n",
        "      \"accum_iter\": 10,\n",
        "      \"base_lr\": 1.0,\n",
        "      \"max_padding\": 72,\n",
        "      \"warmup\": 3000,\n",
        "      \"file_prefix\": \"wikitext2-V1_\",\n",
        "    }\n",
        "    model = load_trained_model(config)"
      ],
      "metadata": {
        "id": "jRHc12Mi1N9-"
      },
      "execution_count": 368,
      "outputs": []
    },
    {
      "cell_type": "code",
      "source": [
        "model = load_trained_model(config)"
      ],
      "metadata": {
        "id": "k-pbfOqBVEEq"
      },
      "execution_count": 369,
      "outputs": []
    },
    {
      "cell_type": "code",
      "source": [
        "def test_model(model, vocab, spacy_en, config):\n",
        "    model.eval()\n",
        "    dataset = load_dataset(\"wikitext\", \"wikitext-2-v1\")\n",
        "    test_list = dataset['test']['text'][250:261]\n",
        "\n",
        "    device = torch.cuda.set_device(0)\n",
        "\n",
        "    def tokenize_en(text):\n",
        "        return tokenize(text, spacy_en)\n",
        "\n",
        "\n",
        "    def collate_fn(sen_list):\n",
        "        return collate_batch(\n",
        "            sen_list,\n",
        "            tokenize_en,\n",
        "            vocab,\n",
        "            device,\n",
        "            max_padding=config[\"max_padding\"],\n",
        "            pad_id=vocab.get_stoi()[\"<blank>\"],\n",
        "        )\n",
        "\n",
        "    def greedy_decode(model, x, max_len, vocab=None):\n",
        "        word_list = []\n",
        "\n",
        "        for i in range(max_len - 1):\n",
        "            out = model.decode(x)\n",
        "            prob = model.generator(out[:, -1])\n",
        "            _, next_word = torch.max(prob, dim=1)\n",
        "            next_word = next_word.data[0]\n",
        "            if vocab:\n",
        "                word_list.append(vocab.lookup_token(next_word.item()))\n",
        "                # print(\"Word List Prediction:\", word_list)\n",
        "\n",
        "            x = torch.cat([x, torch.empty(1, 1).type_as(x.data).fill_(next_word)], dim=1)\n",
        "\n",
        "        sentence = ' '.join(word_list)\n",
        "        print(\"Word List Prediction: \", sentence)\n",
        "\n",
        "        # if vocab is None:\n",
        "        # print(\"Model Prediction:\", x)\n",
        "        return x\n",
        "\n",
        "    for sen in test_list:\n",
        "        sen_list = [sen[:50]]\n",
        "        print(sen_list)\n",
        "        b = collate_fn(sen_list)\n",
        "        x = greedy_decode(model, b[0], 15, vocab)\n",
        "\n",
        "model = load_trained_model(config)\n",
        "test_model(model, vocab, spacy_en, config)"
      ],
      "metadata": {
        "colab": {
          "base_uri": "https://localhost:8080/"
        },
        "id": "Z8xpCfZdiNsC",
        "outputId": "ff991532-f572-48aa-ed43-f2d8cecf80b6"
      },
      "execution_count": 370,
      "outputs": [
        {
          "output_type": "stream",
          "name": "stdout",
          "text": [
            "[' During gunnery training on 5 May , there was a pr']\n",
            "Word List Prediction:  . The < unk > for the body was also applied for the <\n",
            "[' They returned home on 14 June and the <unk> began']\n",
            "Word List Prediction:  . The < unk > for the body was given the < unk >\n",
            "[' After completing her sea trials , <unk> was attac']\n",
            "Word List Prediction:  . The resulting in the same view was given the < unk > ,\n",
            "['']\n",
            "Word List Prediction:  . The < unk > for the < unk > , < unk >\n",
            "[' = = = = Battle of Cape <unk> = = = = \\n']\n",
            "Word List Prediction:  . \n",
            " for the < unk > the < unk > , < unk\n",
            "['']\n",
            "Word List Prediction:  . The < unk > for the < unk > , < unk >\n",
            "[' <unk> of aircraft and <unk> problems greatly <unk']\n",
            "Word List Prediction:  . \n",
            " for the < unk > the < unk > < unk >\n",
            "[' Although they had lost contact during the night ,']\n",
            "Word List Prediction:  . The resulting in the < unk > , < unk > , <\n",
            "[' <unk> was attacked by 80 @-@ odd aircraft from th']\n",
            "Word List Prediction:  . The < unk > for the < unk > , < unk >\n",
            "[' In early November the <unk> were removed from bot']\n",
            "Word List Prediction:  . The resulting in the < unk > , < unk > , <\n",
            "[' The <unk> then decided to use the sisters and the']\n",
            "Word List Prediction:  . The < unk > for the < unk > , < unk >\n"
          ]
        }
      ]
    },
    {
      "cell_type": "markdown",
      "source": [
        "## Test the Model"
      ],
      "metadata": {
        "id": "7n_LDuOqe0GK"
      }
    },
    {
      "cell_type": "code",
      "source": [
        "def check_outputs(\n",
        "    test_dataloader,\n",
        "    model,\n",
        "    vocab,\n",
        "    n_examples=15,\n",
        "    pad_idx=2,\n",
        "    eos_string=\"</s>\",\n",
        "):\n",
        "    results = [()] * n_examples\n",
        "    for idx in range(n_examples):\n",
        "        print(\"\\nExample %d ========\\n\" % idx)\n",
        "        b = next(iter(test_dataloader))\n",
        "        rb = Batch(b[0][:, 0:5], b[0][:, 5:10], pad_idx)\n",
        "\n",
        "        full_sentence = [\n",
        "            vocab.get_itos()[i] for i in b[0][0] if i != pad_idx\n",
        "        ]\n",
        "\n",
        "        x_tokens = [\n",
        "            vocab.get_itos()[i] for i in rb.x[0] if i != pad_idx\n",
        "        ]\n",
        "        y_tokens = [\n",
        "            vocab.get_itos()[i] for i in rb.y[0] if i != pad_idx\n",
        "        ]\n",
        "\n",
        "        print(\n",
        "            \"Full Sentence              : \"\n",
        "            + \" \".join(full_sentence).replace(\"\\n\", \"\")\n",
        "        )\n",
        "\n",
        "        print(\n",
        "            \"Source Text (Input)        : \"\n",
        "            + \" \".join(x_tokens).replace(\"\\n\", \"\")\n",
        "        )\n",
        "        print(\n",
        "            \"Target Text (Ground Truth) : \"\n",
        "            + \" \".join(y_tokens).replace(\"\\n\", \"\")\n",
        "        )\n",
        "        model_out = greedy_decode(model, rb.x, 5)[0]\n",
        "        model_txt = (\n",
        "            \" \".join(\n",
        "                [vocab.get_itos()[i] for i in model_out if i != pad_idx]\n",
        "            ).split(eos_string, 1)[0]\n",
        "            + eos_string\n",
        "        )\n",
        "        print(\"Model Output               : \" + model_txt.replace(\"\\n\", \"\"))\n",
        "        results[idx] = (rb, x_tokens, y_tokens, model_out, model_txt)\n",
        "    return results\n",
        "\n",
        "\n",
        "def run_model_example(n_examples=5):\n",
        "    global vocab, spacy_en\n",
        "\n",
        "    print(\"Preparing Data ...\")\n",
        "    _, _, test_dataloader = create_dataloaders(\n",
        "        torch.device(\"cpu\"),\n",
        "        vocab,\n",
        "        spacy_en,\n",
        "        batch_size=1,\n",
        "        is_distributed=False,\n",
        "    )\n",
        "\n",
        "    print(\"Loading Trained Model ...\")\n",
        "\n",
        "    model = make_model(len(vocab), N=6)\n",
        "    model_path = \"%sfinal.pt\" % config[\"file_prefix\"]\n",
        "    model.load_state_dict(\n",
        "        torch.load(model_path, map_location=torch.device(\"cpu\"))\n",
        "    )\n",
        "\n",
        "    print(\"Checking Model Outputs:\")\n",
        "    example_data = check_outputs(test_dataloader, model, vocab, n_examples=n_examples)\n",
        "    return model, example_data\n",
        "\n",
        "config = {\n",
        "  \"file_prefix\": \"wikitext2-V1_\",\n",
        "}\n",
        "\n",
        "execute_example(run_model_example)"
      ],
      "metadata": {
        "id": "J2YM0z5yzNpM",
        "colab": {
          "base_uri": "https://localhost:8080/"
        },
        "outputId": "49132678-bb52-4982-86d9-0b767ddfb24a"
      },
      "execution_count": 387,
      "outputs": [
        {
          "output_type": "stream",
          "name": "stdout",
          "text": [
            "Preparing Data ...\n",
            "Loading Trained Model ...\n",
            "Checking Model Outputs:\n",
            "\n",
            "Example 0 ========\n",
            "\n",
            "Full Sentence              : <s> </s>\n",
            "Source Text (Input)        : <s> </s>\n",
            "Target Text (Ground Truth) : \n",
            "Model Output               : , , , , ,</s>\n",
            "\n",
            "Example 1 ========\n",
            "\n",
            "Full Sentence              : <s> </s>\n",
            "Source Text (Input)        : <s> </s>\n",
            "Target Text (Ground Truth) : \n",
            "Model Output               : , < , , ,</s>\n",
            "\n",
            "Example 2 ========\n",
            "\n",
            "Full Sentence              : <s> </s>\n",
            "Source Text (Input)        : <s> </s>\n",
            "Target Text (Ground Truth) : \n",
            "Model Output               :  ,  the (</s>\n",
            "\n",
            "Example 3 ========\n",
            "\n",
            "Full Sentence              : <s>   The Division of the City Schools of Manila , a branch of the Department of Education , refers to the city 's three @-@ tier public education system . It governs the 71 public elementary schools , 32 public high schools . </s>\n",
            "Source Text (Input)        : <s>   The Division of\n",
            "Target Text (Ground Truth) : the City Schools of Manila\n",
            "Model Output               : the the the the the</s>\n",
            "\n",
            "Example 4 ========\n",
            "\n",
            "Full Sentence              : <s>   In 2000 , paleontologists Adam < unk > and Anne Warren produced a revised phylogeny of more derived < unk > , naming several new clades . Two major clades were < unk > and < unk > . < unk > includes the < unk > that were once called < unk > and includes two subfamilies , the < unk > and the < unk > . < unk > include small , mostly terrestrial < unk > that may be the ancestors of modern amphibians . < unk > include larger < unk > like < unk > . The second major clade , < unk > , includes most < unk > < unk > , as well as some < unk\n",
            "Source Text (Input)        : <s>   In 2000 ,\n",
            "Target Text (Ground Truth) : paleontologists Adam < unk >\n",
            "Model Output               : the the the the the</s>\n"
          ]
        }
      ]
    },
    {
      "cell_type": "markdown",
      "source": [
        "# Attention Visualization"
      ],
      "metadata": {
        "id": "teSP7AsSzP11"
      }
    },
    {
      "cell_type": "code",
      "source": [
        "def mtx2df(m, max_row, max_col, row_tokens, col_tokens):\n",
        "    \"convert a dense matrix to a data frame with row and column indices\"\n",
        "    return pd.DataFrame(\n",
        "        [\n",
        "            (\n",
        "                r,\n",
        "                c,\n",
        "                float(m[r, c]),\n",
        "                \"%.3d %s\"\n",
        "                % (r, row_tokens[r] if len(row_tokens) > r else \"<blank>\"),\n",
        "                \"%.3d %s\"\n",
        "                % (c, col_tokens[c] if len(col_tokens) > c else \"<blank>\"),\n",
        "            )\n",
        "            for r in range(m.shape[0])\n",
        "            for c in range(m.shape[1])\n",
        "            if r < max_row and c < max_col\n",
        "        ],\n",
        "        # if float(m[r,c]) != 0 and r < max_row and c < max_col],\n",
        "        columns=[\"row\", \"column\", \"value\", \"row_token\", \"col_token\"],\n",
        "    )\n",
        "\n",
        "\n",
        "def attn_map(attn, layer, head, row_tokens, col_tokens, max_dim=30):\n",
        "    df = mtx2df(\n",
        "        attn[0, head].data,\n",
        "        max_dim,\n",
        "        max_dim,\n",
        "        row_tokens,\n",
        "        col_tokens,\n",
        "    )\n",
        "    return (\n",
        "        alt.Chart(data=df)\n",
        "        .mark_rect()\n",
        "        .encode(\n",
        "            x=alt.X(\"col_token\", axis=alt.Axis(title=\"\")),\n",
        "            y=alt.Y(\"row_token\", axis=alt.Axis(title=\"\")),\n",
        "            color=\"value\",\n",
        "            tooltip=[\"row\", \"column\", \"value\", \"row_token\", \"col_token\"],\n",
        "        )\n",
        "        .properties(height=400, width=400)\n",
        "        .interactive()\n",
        "    )"
      ],
      "metadata": {
        "id": "oSyJEqDjyjkd"
      },
      "execution_count": 378,
      "outputs": []
    },
    {
      "cell_type": "code",
      "source": [
        "def get_encoder(model, layer):\n",
        "    return model.encoder.layers[layer].self_attn.attn\n",
        "\n",
        "\n",
        "def get_decoder_self(model, layer):\n",
        "    return model.decoder.layers[layer].self_attn.attn\n",
        "\n",
        "\n",
        "def get_decoder_src(model, layer):\n",
        "    return model.decoder.layers[layer].src_attn.attn\n",
        "\n",
        "\n",
        "def visualize_layer(model, layer, getter_fn, ntokens, row_tokens, col_tokens):\n",
        "    # ntokens = last_example[0].ntokens\n",
        "    attn = getter_fn(model, layer)\n",
        "    n_heads = attn.shape[1]\n",
        "    charts = [\n",
        "        attn_map(\n",
        "            attn,\n",
        "            0,\n",
        "            h,\n",
        "            row_tokens=row_tokens,\n",
        "            col_tokens=col_tokens,\n",
        "            max_dim=ntokens,\n",
        "        )\n",
        "        for h in range(n_heads)\n",
        "    ]\n",
        "    assert n_heads == 8\n",
        "    return alt.vconcat(\n",
        "        charts[0]\n",
        "        # | charts[1]\n",
        "        | charts[2]\n",
        "        # | charts[3]\n",
        "        | charts[4]\n",
        "        # | charts[5]\n",
        "        | charts[6]\n",
        "        # | charts[7]\n",
        "        # layer + 1 due to 0-indexing\n",
        "    ).properties(title=\"Layer %d\" % (layer + 1))"
      ],
      "metadata": {
        "id": "Gjd54PR7yrRJ"
      },
      "execution_count": 379,
      "outputs": []
    },
    {
      "cell_type": "code",
      "source": [
        "def viz_decoder_self():\n",
        "    model, example_data = run_model_example(n_examples=1)\n",
        "    example = example_data[len(example_data) - 1]\n",
        "\n",
        "    layer_viz = [\n",
        "        visualize_layer(\n",
        "            model,\n",
        "            layer,\n",
        "            get_decoder_self,\n",
        "            len(example[1]),\n",
        "            example[1],\n",
        "            example[1],\n",
        "        )\n",
        "        for layer in range(6)\n",
        "    ]\n",
        "    return alt.hconcat(\n",
        "        layer_viz[0]\n",
        "        & layer_viz[1]\n",
        "        & layer_viz[2]\n",
        "        & layer_viz[3]\n",
        "        & layer_viz[4]\n",
        "        & layer_viz[5]\n",
        "    )\n",
        "\n",
        "\n",
        "show_example(viz_decoder_self)"
      ],
      "metadata": {
        "id": "WBXudbKVytNH",
        "colab": {
          "base_uri": "https://localhost:8080/",
          "height": 1000
        },
        "outputId": "1b0b7e94-3cf6-4651-c50f-3313b22f1048"
      },
      "execution_count": 384,
      "outputs": [
        {
          "output_type": "stream",
          "name": "stdout",
          "text": [
            "Preparing Data ...\n",
            "Loading Trained Model ...\n",
            "Checking Model Outputs:\n",
            "\n",
            "Example 0 ========\n",
            "\n",
            "Full Sentence              : <s>   In 422 , Augustine of < unk > wrote about 2 < unk > 2 : 1 – 11 , where he believed Paul mentioned the coming of the < unk > . Though he rejects the theory , Augustine mentions that many Christians believed that < unk > was the < unk > or would return as the < unk > . He wrote , \" so that in saying , ' For the mystery of < unk > < unk > already work , ' he alluded to < unk > , whose < unk > already seemed to be as the < unk > of < unk > . \" </s>\n",
            "Source Text (Input)        : <s>   In 422 ,\n",
            "Target Text (Ground Truth) : Augustine of < unk >\n",
            "Model Output               : a a the the the</s>\n"
          ]
        },
        {
          "output_type": "execute_result",
          "data": {
            "text/html": [
              "\n",
              "<div id=\"altair-viz-b8549a803d884b34ac7503f768a9ec25\"></div>\n",
              "<script type=\"text/javascript\">\n",
              "  var VEGA_DEBUG = (typeof VEGA_DEBUG == \"undefined\") ? {} : VEGA_DEBUG;\n",
              "  (function(spec, embedOpt){\n",
              "    let outputDiv = document.currentScript.previousElementSibling;\n",
              "    if (outputDiv.id !== \"altair-viz-b8549a803d884b34ac7503f768a9ec25\") {\n",
              "      outputDiv = document.getElementById(\"altair-viz-b8549a803d884b34ac7503f768a9ec25\");\n",
              "    }\n",
              "    const paths = {\n",
              "      \"vega\": \"https://cdn.jsdelivr.net/npm//vega@5?noext\",\n",
              "      \"vega-lib\": \"https://cdn.jsdelivr.net/npm//vega-lib?noext\",\n",
              "      \"vega-lite\": \"https://cdn.jsdelivr.net/npm//vega-lite@4.17.0?noext\",\n",
              "      \"vega-embed\": \"https://cdn.jsdelivr.net/npm//vega-embed@6?noext\",\n",
              "    };\n",
              "\n",
              "    function maybeLoadScript(lib, version) {\n",
              "      var key = `${lib.replace(\"-\", \"\")}_version`;\n",
              "      return (VEGA_DEBUG[key] == version) ?\n",
              "        Promise.resolve(paths[lib]) :\n",
              "        new Promise(function(resolve, reject) {\n",
              "          var s = document.createElement('script');\n",
              "          document.getElementsByTagName(\"head\")[0].appendChild(s);\n",
              "          s.async = true;\n",
              "          s.onload = () => {\n",
              "            VEGA_DEBUG[key] = version;\n",
              "            return resolve(paths[lib]);\n",
              "          };\n",
              "          s.onerror = () => reject(`Error loading script: ${paths[lib]}`);\n",
              "          s.src = paths[lib];\n",
              "        });\n",
              "    }\n",
              "\n",
              "    function showError(err) {\n",
              "      outputDiv.innerHTML = `<div class=\"error\" style=\"color:red;\">${err}</div>`;\n",
              "      throw err;\n",
              "    }\n",
              "\n",
              "    function displayChart(vegaEmbed) {\n",
              "      vegaEmbed(outputDiv, spec, embedOpt)\n",
              "        .catch(err => showError(`Javascript Error: ${err.message}<br>This usually means there's a typo in your chart specification. See the javascript console for the full traceback.`));\n",
              "    }\n",
              "\n",
              "    if(typeof define === \"function\" && define.amd) {\n",
              "      requirejs.config({paths});\n",
              "      require([\"vega-embed\"], displayChart, err => showError(`Error loading script: ${err.message}`));\n",
              "    } else {\n",
              "      maybeLoadScript(\"vega\", \"5\")\n",
              "        .then(() => maybeLoadScript(\"vega-lite\", \"4.17.0\"))\n",
              "        .then(() => maybeLoadScript(\"vega-embed\", \"6\"))\n",
              "        .catch(showError)\n",
              "        .then(() => displayChart(vegaEmbed));\n",
              "    }\n",
              "  })({\"config\": {\"view\": {\"continuousWidth\": 400, \"continuousHeight\": 300}}, \"hconcat\": [{\"vconcat\": [{\"hconcat\": [{\"data\": {\"name\": \"data-1c4e3076cb65ed301534e24e3f8fd794\"}, \"mark\": \"rect\", \"encoding\": {\"color\": {\"field\": \"value\", \"type\": \"quantitative\"}, \"tooltip\": [{\"field\": \"row\", \"type\": \"quantitative\"}, {\"field\": \"column\", \"type\": \"quantitative\"}, {\"field\": \"value\", \"type\": \"quantitative\"}, {\"field\": \"row_token\", \"type\": \"nominal\"}, {\"field\": \"col_token\", \"type\": \"nominal\"}], \"x\": {\"axis\": {\"title\": \"\"}, \"field\": \"col_token\", \"type\": \"nominal\"}, \"y\": {\"axis\": {\"title\": \"\"}, \"field\": \"row_token\", \"type\": \"nominal\"}}, \"height\": 400, \"selection\": {\"selector241\": {\"type\": \"interval\", \"bind\": \"scales\", \"encodings\": [\"x\", \"y\"]}}, \"width\": 400}, {\"data\": {\"name\": \"data-bb800499529ee6f86ff70e866cc40c12\"}, \"mark\": \"rect\", \"encoding\": {\"color\": {\"field\": \"value\", \"type\": \"quantitative\"}, \"tooltip\": [{\"field\": \"row\", \"type\": \"quantitative\"}, {\"field\": \"column\", \"type\": \"quantitative\"}, {\"field\": \"value\", \"type\": \"quantitative\"}, {\"field\": \"row_token\", \"type\": \"nominal\"}, {\"field\": \"col_token\", \"type\": \"nominal\"}], \"x\": {\"axis\": {\"title\": \"\"}, \"field\": \"col_token\", \"type\": \"nominal\"}, \"y\": {\"axis\": {\"title\": \"\"}, \"field\": \"row_token\", \"type\": \"nominal\"}}, \"height\": 400, \"selection\": {\"selector243\": {\"type\": \"interval\", \"bind\": \"scales\", \"encodings\": [\"x\", \"y\"]}}, \"width\": 400}, {\"data\": {\"name\": \"data-37ef2aa9f8e1c006e8f9006537d95718\"}, \"mark\": \"rect\", \"encoding\": {\"color\": {\"field\": \"value\", \"type\": \"quantitative\"}, \"tooltip\": [{\"field\": \"row\", \"type\": \"quantitative\"}, {\"field\": \"column\", \"type\": \"quantitative\"}, {\"field\": \"value\", \"type\": \"quantitative\"}, {\"field\": \"row_token\", \"type\": \"nominal\"}, {\"field\": \"col_token\", \"type\": \"nominal\"}], \"x\": {\"axis\": {\"title\": \"\"}, \"field\": \"col_token\", \"type\": \"nominal\"}, \"y\": {\"axis\": {\"title\": \"\"}, \"field\": \"row_token\", \"type\": \"nominal\"}}, \"height\": 400, \"selection\": {\"selector245\": {\"type\": \"interval\", \"bind\": \"scales\", \"encodings\": [\"x\", \"y\"]}}, \"width\": 400}, {\"data\": {\"name\": \"data-2a6b1ff243569a77113a9ec388e2c6e2\"}, \"mark\": \"rect\", \"encoding\": {\"color\": {\"field\": \"value\", \"type\": \"quantitative\"}, \"tooltip\": [{\"field\": \"row\", \"type\": \"quantitative\"}, {\"field\": \"column\", \"type\": \"quantitative\"}, {\"field\": \"value\", \"type\": \"quantitative\"}, {\"field\": \"row_token\", \"type\": \"nominal\"}, {\"field\": \"col_token\", \"type\": \"nominal\"}], \"x\": {\"axis\": {\"title\": \"\"}, \"field\": \"col_token\", \"type\": \"nominal\"}, \"y\": {\"axis\": {\"title\": \"\"}, \"field\": \"row_token\", \"type\": \"nominal\"}}, \"height\": 400, \"selection\": {\"selector247\": {\"type\": \"interval\", \"bind\": \"scales\", \"encodings\": [\"x\", \"y\"]}}, \"width\": 400}]}, {\"vconcat\": [{\"hconcat\": [{\"data\": {\"name\": \"data-f53151517c1e4e87ee6e119c4ad3909d\"}, \"mark\": \"rect\", \"encoding\": {\"color\": {\"field\": \"value\", \"type\": \"quantitative\"}, \"tooltip\": [{\"field\": \"row\", \"type\": \"quantitative\"}, {\"field\": \"column\", \"type\": \"quantitative\"}, {\"field\": \"value\", \"type\": \"quantitative\"}, {\"field\": \"row_token\", \"type\": \"nominal\"}, {\"field\": \"col_token\", \"type\": \"nominal\"}], \"x\": {\"axis\": {\"title\": \"\"}, \"field\": \"col_token\", \"type\": \"nominal\"}, \"y\": {\"axis\": {\"title\": \"\"}, \"field\": \"row_token\", \"type\": \"nominal\"}}, \"height\": 400, \"selection\": {\"selector249\": {\"type\": \"interval\", \"bind\": \"scales\", \"encodings\": [\"x\", \"y\"]}}, \"width\": 400}, {\"data\": {\"name\": \"data-8139b5e9b69d28e744fe93d573e5a20d\"}, \"mark\": \"rect\", \"encoding\": {\"color\": {\"field\": \"value\", \"type\": \"quantitative\"}, \"tooltip\": [{\"field\": \"row\", \"type\": \"quantitative\"}, {\"field\": \"column\", \"type\": \"quantitative\"}, {\"field\": \"value\", \"type\": \"quantitative\"}, {\"field\": \"row_token\", \"type\": \"nominal\"}, {\"field\": \"col_token\", \"type\": \"nominal\"}], \"x\": {\"axis\": {\"title\": \"\"}, \"field\": \"col_token\", \"type\": \"nominal\"}, \"y\": {\"axis\": {\"title\": \"\"}, \"field\": \"row_token\", \"type\": \"nominal\"}}, \"height\": 400, \"selection\": {\"selector251\": {\"type\": \"interval\", \"bind\": \"scales\", \"encodings\": [\"x\", \"y\"]}}, \"width\": 400}, {\"data\": {\"name\": \"data-2d7a65210d9ef70d6242b8257384591d\"}, \"mark\": \"rect\", \"encoding\": {\"color\": {\"field\": \"value\", \"type\": \"quantitative\"}, \"tooltip\": [{\"field\": \"row\", \"type\": \"quantitative\"}, {\"field\": \"column\", \"type\": \"quantitative\"}, {\"field\": \"value\", \"type\": \"quantitative\"}, {\"field\": \"row_token\", \"type\": \"nominal\"}, {\"field\": \"col_token\", \"type\": \"nominal\"}], \"x\": {\"axis\": {\"title\": \"\"}, \"field\": \"col_token\", \"type\": \"nominal\"}, \"y\": {\"axis\": {\"title\": \"\"}, \"field\": \"row_token\", \"type\": \"nominal\"}}, \"height\": 400, \"selection\": {\"selector253\": {\"type\": \"interval\", \"bind\": \"scales\", \"encodings\": [\"x\", \"y\"]}}, \"width\": 400}, {\"data\": {\"name\": \"data-47395a55ccb4f1c4ef43f2423a6df931\"}, \"mark\": \"rect\", \"encoding\": {\"color\": {\"field\": \"value\", \"type\": \"quantitative\"}, \"tooltip\": [{\"field\": \"row\", \"type\": \"quantitative\"}, {\"field\": \"column\", \"type\": \"quantitative\"}, {\"field\": \"value\", \"type\": \"quantitative\"}, {\"field\": \"row_token\", \"type\": \"nominal\"}, {\"field\": \"col_token\", \"type\": \"nominal\"}], \"x\": {\"axis\": {\"title\": \"\"}, \"field\": \"col_token\", \"type\": \"nominal\"}, \"y\": {\"axis\": {\"title\": \"\"}, \"field\": \"row_token\", \"type\": \"nominal\"}}, \"height\": 400, \"selection\": {\"selector255\": {\"type\": \"interval\", \"bind\": \"scales\", \"encodings\": [\"x\", \"y\"]}}, \"width\": 400}]}], \"title\": \"Layer 2\"}, {\"vconcat\": [{\"hconcat\": [{\"data\": {\"name\": \"data-8883c3a0f5b7555e5fd1b44c23868788\"}, \"mark\": \"rect\", \"encoding\": {\"color\": {\"field\": \"value\", \"type\": \"quantitative\"}, \"tooltip\": [{\"field\": \"row\", \"type\": \"quantitative\"}, {\"field\": \"column\", \"type\": \"quantitative\"}, {\"field\": \"value\", \"type\": \"quantitative\"}, {\"field\": \"row_token\", \"type\": \"nominal\"}, {\"field\": \"col_token\", \"type\": \"nominal\"}], \"x\": {\"axis\": {\"title\": \"\"}, \"field\": \"col_token\", \"type\": \"nominal\"}, \"y\": {\"axis\": {\"title\": \"\"}, \"field\": \"row_token\", \"type\": \"nominal\"}}, \"height\": 400, \"selection\": {\"selector257\": {\"type\": \"interval\", \"bind\": \"scales\", \"encodings\": [\"x\", \"y\"]}}, \"width\": 400}, {\"data\": {\"name\": \"data-80728f1678ed8f78cb551b65dc2e02d1\"}, \"mark\": \"rect\", \"encoding\": {\"color\": {\"field\": \"value\", \"type\": \"quantitative\"}, \"tooltip\": [{\"field\": \"row\", \"type\": \"quantitative\"}, {\"field\": \"column\", \"type\": \"quantitative\"}, {\"field\": \"value\", \"type\": \"quantitative\"}, {\"field\": \"row_token\", \"type\": \"nominal\"}, {\"field\": \"col_token\", \"type\": \"nominal\"}], \"x\": {\"axis\": {\"title\": \"\"}, \"field\": \"col_token\", \"type\": \"nominal\"}, \"y\": {\"axis\": {\"title\": \"\"}, \"field\": \"row_token\", \"type\": \"nominal\"}}, \"height\": 400, \"selection\": {\"selector259\": {\"type\": \"interval\", \"bind\": \"scales\", \"encodings\": [\"x\", \"y\"]}}, \"width\": 400}, {\"data\": {\"name\": \"data-f564a3d649e08b569ad135932d865b0d\"}, \"mark\": \"rect\", \"encoding\": {\"color\": {\"field\": \"value\", \"type\": \"quantitative\"}, \"tooltip\": [{\"field\": \"row\", \"type\": \"quantitative\"}, {\"field\": \"column\", \"type\": \"quantitative\"}, {\"field\": \"value\", \"type\": \"quantitative\"}, {\"field\": \"row_token\", \"type\": \"nominal\"}, {\"field\": \"col_token\", \"type\": \"nominal\"}], \"x\": {\"axis\": {\"title\": \"\"}, \"field\": \"col_token\", \"type\": \"nominal\"}, \"y\": {\"axis\": {\"title\": \"\"}, \"field\": \"row_token\", \"type\": \"nominal\"}}, \"height\": 400, \"selection\": {\"selector261\": {\"type\": \"interval\", \"bind\": \"scales\", \"encodings\": [\"x\", \"y\"]}}, \"width\": 400}, {\"data\": {\"name\": \"data-beca54ba4e8e2bdf7761557da1d1d9e0\"}, \"mark\": \"rect\", \"encoding\": {\"color\": {\"field\": \"value\", \"type\": \"quantitative\"}, \"tooltip\": [{\"field\": \"row\", \"type\": \"quantitative\"}, {\"field\": \"column\", \"type\": \"quantitative\"}, {\"field\": \"value\", \"type\": \"quantitative\"}, {\"field\": \"row_token\", \"type\": \"nominal\"}, {\"field\": \"col_token\", \"type\": \"nominal\"}], \"x\": {\"axis\": {\"title\": \"\"}, \"field\": \"col_token\", \"type\": \"nominal\"}, \"y\": {\"axis\": {\"title\": \"\"}, \"field\": \"row_token\", \"type\": \"nominal\"}}, \"height\": 400, \"selection\": {\"selector263\": {\"type\": \"interval\", \"bind\": \"scales\", \"encodings\": [\"x\", \"y\"]}}, \"width\": 400}]}], \"title\": \"Layer 3\"}, {\"vconcat\": [{\"hconcat\": [{\"data\": {\"name\": \"data-35929939869c61a2e720727f0c384277\"}, \"mark\": \"rect\", \"encoding\": {\"color\": {\"field\": \"value\", \"type\": \"quantitative\"}, \"tooltip\": [{\"field\": \"row\", \"type\": \"quantitative\"}, {\"field\": \"column\", \"type\": \"quantitative\"}, {\"field\": \"value\", \"type\": \"quantitative\"}, {\"field\": \"row_token\", \"type\": \"nominal\"}, {\"field\": \"col_token\", \"type\": \"nominal\"}], \"x\": {\"axis\": {\"title\": \"\"}, \"field\": \"col_token\", \"type\": \"nominal\"}, \"y\": {\"axis\": {\"title\": \"\"}, \"field\": \"row_token\", \"type\": \"nominal\"}}, \"height\": 400, \"selection\": {\"selector265\": {\"type\": \"interval\", \"bind\": \"scales\", \"encodings\": [\"x\", \"y\"]}}, \"width\": 400}, {\"data\": {\"name\": \"data-262b8e458c0df7fc9066799bc6d4fd9b\"}, \"mark\": \"rect\", \"encoding\": {\"color\": {\"field\": \"value\", \"type\": \"quantitative\"}, \"tooltip\": [{\"field\": \"row\", \"type\": \"quantitative\"}, {\"field\": \"column\", \"type\": \"quantitative\"}, {\"field\": \"value\", \"type\": \"quantitative\"}, {\"field\": \"row_token\", \"type\": \"nominal\"}, {\"field\": \"col_token\", \"type\": \"nominal\"}], \"x\": {\"axis\": {\"title\": \"\"}, \"field\": \"col_token\", \"type\": \"nominal\"}, \"y\": {\"axis\": {\"title\": \"\"}, \"field\": \"row_token\", \"type\": \"nominal\"}}, \"height\": 400, \"selection\": {\"selector267\": {\"type\": \"interval\", \"bind\": \"scales\", \"encodings\": [\"x\", \"y\"]}}, \"width\": 400}, {\"data\": {\"name\": \"data-ce69fd3427615eea35bec0d32333440c\"}, \"mark\": \"rect\", \"encoding\": {\"color\": {\"field\": \"value\", \"type\": \"quantitative\"}, \"tooltip\": [{\"field\": \"row\", \"type\": \"quantitative\"}, {\"field\": \"column\", \"type\": \"quantitative\"}, {\"field\": \"value\", \"type\": \"quantitative\"}, {\"field\": \"row_token\", \"type\": \"nominal\"}, {\"field\": \"col_token\", \"type\": \"nominal\"}], \"x\": {\"axis\": {\"title\": \"\"}, \"field\": \"col_token\", \"type\": \"nominal\"}, \"y\": {\"axis\": {\"title\": \"\"}, \"field\": \"row_token\", \"type\": \"nominal\"}}, \"height\": 400, \"selection\": {\"selector269\": {\"type\": \"interval\", \"bind\": \"scales\", \"encodings\": [\"x\", \"y\"]}}, \"width\": 400}, {\"data\": {\"name\": \"data-e9300640c4d2902e0ed2c3365aad0fbc\"}, \"mark\": \"rect\", \"encoding\": {\"color\": {\"field\": \"value\", \"type\": \"quantitative\"}, \"tooltip\": [{\"field\": \"row\", \"type\": \"quantitative\"}, {\"field\": \"column\", \"type\": \"quantitative\"}, {\"field\": \"value\", \"type\": \"quantitative\"}, {\"field\": \"row_token\", \"type\": \"nominal\"}, {\"field\": \"col_token\", \"type\": \"nominal\"}], \"x\": {\"axis\": {\"title\": \"\"}, \"field\": \"col_token\", \"type\": \"nominal\"}, \"y\": {\"axis\": {\"title\": \"\"}, \"field\": \"row_token\", \"type\": \"nominal\"}}, \"height\": 400, \"selection\": {\"selector271\": {\"type\": \"interval\", \"bind\": \"scales\", \"encodings\": [\"x\", \"y\"]}}, \"width\": 400}]}], \"title\": \"Layer 4\"}, {\"vconcat\": [{\"hconcat\": [{\"data\": {\"name\": \"data-b75759a7ca20bd011ecbad53d72cec8b\"}, \"mark\": \"rect\", \"encoding\": {\"color\": {\"field\": \"value\", \"type\": \"quantitative\"}, \"tooltip\": [{\"field\": \"row\", \"type\": \"quantitative\"}, {\"field\": \"column\", \"type\": \"quantitative\"}, {\"field\": \"value\", \"type\": \"quantitative\"}, {\"field\": \"row_token\", \"type\": \"nominal\"}, {\"field\": \"col_token\", \"type\": \"nominal\"}], \"x\": {\"axis\": {\"title\": \"\"}, \"field\": \"col_token\", \"type\": \"nominal\"}, \"y\": {\"axis\": {\"title\": \"\"}, \"field\": \"row_token\", \"type\": \"nominal\"}}, \"height\": 400, \"selection\": {\"selector273\": {\"type\": \"interval\", \"bind\": \"scales\", \"encodings\": [\"x\", \"y\"]}}, \"width\": 400}, {\"data\": {\"name\": \"data-7400ad3addde35492fd93296721de76c\"}, \"mark\": \"rect\", \"encoding\": {\"color\": {\"field\": \"value\", \"type\": \"quantitative\"}, \"tooltip\": [{\"field\": \"row\", \"type\": \"quantitative\"}, {\"field\": \"column\", \"type\": \"quantitative\"}, {\"field\": \"value\", \"type\": \"quantitative\"}, {\"field\": \"row_token\", \"type\": \"nominal\"}, {\"field\": \"col_token\", \"type\": \"nominal\"}], \"x\": {\"axis\": {\"title\": \"\"}, \"field\": \"col_token\", \"type\": \"nominal\"}, \"y\": {\"axis\": {\"title\": \"\"}, \"field\": \"row_token\", \"type\": \"nominal\"}}, \"height\": 400, \"selection\": {\"selector275\": {\"type\": \"interval\", \"bind\": \"scales\", \"encodings\": [\"x\", \"y\"]}}, \"width\": 400}, {\"data\": {\"name\": \"data-fc6f67b75fd09730e9c60ea02c8e9ae4\"}, \"mark\": \"rect\", \"encoding\": {\"color\": {\"field\": \"value\", \"type\": \"quantitative\"}, \"tooltip\": [{\"field\": \"row\", \"type\": \"quantitative\"}, {\"field\": \"column\", \"type\": \"quantitative\"}, {\"field\": \"value\", \"type\": \"quantitative\"}, {\"field\": \"row_token\", \"type\": \"nominal\"}, {\"field\": \"col_token\", \"type\": \"nominal\"}], \"x\": {\"axis\": {\"title\": \"\"}, \"field\": \"col_token\", \"type\": \"nominal\"}, \"y\": {\"axis\": {\"title\": \"\"}, \"field\": \"row_token\", \"type\": \"nominal\"}}, \"height\": 400, \"selection\": {\"selector277\": {\"type\": \"interval\", \"bind\": \"scales\", \"encodings\": [\"x\", \"y\"]}}, \"width\": 400}, {\"data\": {\"name\": \"data-91c7536fa9a78a0ef35b26bc7afa6c01\"}, \"mark\": \"rect\", \"encoding\": {\"color\": {\"field\": \"value\", \"type\": \"quantitative\"}, \"tooltip\": [{\"field\": \"row\", \"type\": \"quantitative\"}, {\"field\": \"column\", \"type\": \"quantitative\"}, {\"field\": \"value\", \"type\": \"quantitative\"}, {\"field\": \"row_token\", \"type\": \"nominal\"}, {\"field\": \"col_token\", \"type\": \"nominal\"}], \"x\": {\"axis\": {\"title\": \"\"}, \"field\": \"col_token\", \"type\": \"nominal\"}, \"y\": {\"axis\": {\"title\": \"\"}, \"field\": \"row_token\", \"type\": \"nominal\"}}, \"height\": 400, \"selection\": {\"selector279\": {\"type\": \"interval\", \"bind\": \"scales\", \"encodings\": [\"x\", \"y\"]}}, \"width\": 400}]}], \"title\": \"Layer 5\"}, {\"vconcat\": [{\"hconcat\": [{\"data\": {\"name\": \"data-95a4e74636d9a78e94af458f27a9ca2b\"}, \"mark\": \"rect\", \"encoding\": {\"color\": {\"field\": \"value\", \"type\": \"quantitative\"}, \"tooltip\": [{\"field\": \"row\", \"type\": \"quantitative\"}, {\"field\": \"column\", \"type\": \"quantitative\"}, {\"field\": \"value\", \"type\": \"quantitative\"}, {\"field\": \"row_token\", \"type\": \"nominal\"}, {\"field\": \"col_token\", \"type\": \"nominal\"}], \"x\": {\"axis\": {\"title\": \"\"}, \"field\": \"col_token\", \"type\": \"nominal\"}, \"y\": {\"axis\": {\"title\": \"\"}, \"field\": \"row_token\", \"type\": \"nominal\"}}, \"height\": 400, \"selection\": {\"selector281\": {\"type\": \"interval\", \"bind\": \"scales\", \"encodings\": [\"x\", \"y\"]}}, \"width\": 400}, {\"data\": {\"name\": \"data-5955cd4a362967c6fd8d1cf35fc73e2f\"}, \"mark\": \"rect\", \"encoding\": {\"color\": {\"field\": \"value\", \"type\": \"quantitative\"}, \"tooltip\": [{\"field\": \"row\", \"type\": \"quantitative\"}, {\"field\": \"column\", \"type\": \"quantitative\"}, {\"field\": \"value\", \"type\": \"quantitative\"}, {\"field\": \"row_token\", \"type\": \"nominal\"}, {\"field\": \"col_token\", \"type\": \"nominal\"}], \"x\": {\"axis\": {\"title\": \"\"}, \"field\": \"col_token\", \"type\": \"nominal\"}, \"y\": {\"axis\": {\"title\": \"\"}, \"field\": \"row_token\", \"type\": \"nominal\"}}, \"height\": 400, \"selection\": {\"selector283\": {\"type\": \"interval\", \"bind\": \"scales\", \"encodings\": [\"x\", \"y\"]}}, \"width\": 400}, {\"data\": {\"name\": \"data-66bd8f18ab1554c482e0f41bdeac83c6\"}, \"mark\": \"rect\", \"encoding\": {\"color\": {\"field\": \"value\", \"type\": \"quantitative\"}, \"tooltip\": [{\"field\": \"row\", \"type\": \"quantitative\"}, {\"field\": \"column\", \"type\": \"quantitative\"}, {\"field\": \"value\", \"type\": \"quantitative\"}, {\"field\": \"row_token\", \"type\": \"nominal\"}, {\"field\": \"col_token\", \"type\": \"nominal\"}], \"x\": {\"axis\": {\"title\": \"\"}, \"field\": \"col_token\", \"type\": \"nominal\"}, \"y\": {\"axis\": {\"title\": \"\"}, \"field\": \"row_token\", \"type\": \"nominal\"}}, \"height\": 400, \"selection\": {\"selector285\": {\"type\": \"interval\", \"bind\": \"scales\", \"encodings\": [\"x\", \"y\"]}}, \"width\": 400}, {\"data\": {\"name\": \"data-029e4b5dd04bc6522d57816b92b82b6f\"}, \"mark\": \"rect\", \"encoding\": {\"color\": {\"field\": \"value\", \"type\": \"quantitative\"}, \"tooltip\": [{\"field\": \"row\", \"type\": \"quantitative\"}, {\"field\": \"column\", \"type\": \"quantitative\"}, {\"field\": \"value\", \"type\": \"quantitative\"}, {\"field\": \"row_token\", \"type\": \"nominal\"}, {\"field\": \"col_token\", \"type\": \"nominal\"}], \"x\": {\"axis\": {\"title\": \"\"}, \"field\": \"col_token\", \"type\": \"nominal\"}, \"y\": {\"axis\": {\"title\": \"\"}, \"field\": \"row_token\", \"type\": \"nominal\"}}, \"height\": 400, \"selection\": {\"selector287\": {\"type\": \"interval\", \"bind\": \"scales\", \"encodings\": [\"x\", \"y\"]}}, \"width\": 400}]}], \"title\": \"Layer 6\"}], \"title\": \"Layer 1\"}], \"$schema\": \"https://vega.github.io/schema/vega-lite/v4.17.0.json\", \"datasets\": {\"data-1c4e3076cb65ed301534e24e3f8fd794\": [{\"row\": 0, \"column\": 0, \"value\": 1.1111111640930176, \"row_token\": \"000 <s>\", \"col_token\": \"000 <s>\"}, {\"row\": 0, \"column\": 1, \"value\": 0.0, \"row_token\": \"000 <s>\", \"col_token\": \"001  \"}, {\"row\": 0, \"column\": 2, \"value\": 0.0, \"row_token\": \"000 <s>\", \"col_token\": \"002 In\"}, {\"row\": 0, \"column\": 3, \"value\": 0.0, \"row_token\": \"000 <s>\", \"col_token\": \"003 422\"}, {\"row\": 0, \"column\": 4, \"value\": 0.0, \"row_token\": \"000 <s>\", \"col_token\": \"004 ,\"}, {\"row\": 1, \"column\": 0, \"value\": 0.016720423474907875, \"row_token\": \"001  \", \"col_token\": \"000 <s>\"}, {\"row\": 1, \"column\": 1, \"value\": 1.094390630722046, \"row_token\": \"001  \", \"col_token\": \"001  \"}, {\"row\": 1, \"column\": 2, \"value\": 0.0, \"row_token\": \"001  \", \"col_token\": \"002 In\"}, {\"row\": 1, \"column\": 3, \"value\": 0.0, \"row_token\": \"001  \", \"col_token\": \"003 422\"}, {\"row\": 1, \"column\": 4, \"value\": 0.0, \"row_token\": \"001  \", \"col_token\": \"004 ,\"}, {\"row\": 2, \"column\": 0, \"value\": 0.1449049860239029, \"row_token\": \"002 In\", \"col_token\": \"000 <s>\"}, {\"row\": 2, \"column\": 1, \"value\": 0.04918771609663963, \"row_token\": \"002 In\", \"col_token\": \"001  \"}, {\"row\": 2, \"column\": 2, \"value\": 0.917018473148346, \"row_token\": \"002 In\", \"col_token\": \"002 In\"}, {\"row\": 2, \"column\": 3, \"value\": 0.0, \"row_token\": \"002 In\", \"col_token\": \"003 422\"}, {\"row\": 2, \"column\": 4, \"value\": 0.0, \"row_token\": \"002 In\", \"col_token\": \"004 ,\"}, {\"row\": 3, \"column\": 0, \"value\": 0.000882315041963011, \"row_token\": \"003 422\", \"col_token\": \"000 <s>\"}, {\"row\": 3, \"column\": 1, \"value\": 0.0014849879080429673, \"row_token\": \"003 422\", \"col_token\": \"001  \"}, {\"row\": 3, \"column\": 2, \"value\": 0.6806260943412781, \"row_token\": \"003 422\", \"col_token\": \"002 In\"}, {\"row\": 3, \"column\": 3, \"value\": 0.4281177520751953, \"row_token\": \"003 422\", \"col_token\": \"003 422\"}, {\"row\": 3, \"column\": 4, \"value\": 0.0, \"row_token\": \"003 422\", \"col_token\": \"004 ,\"}, {\"row\": 4, \"column\": 0, \"value\": 0.004977693315595388, \"row_token\": \"004 ,\", \"col_token\": \"000 <s>\"}, {\"row\": 4, \"column\": 1, \"value\": 0.0, \"row_token\": \"004 ,\", \"col_token\": \"001  \"}, {\"row\": 4, \"column\": 2, \"value\": 0.3070942461490631, \"row_token\": \"004 ,\", \"col_token\": \"002 In\"}, {\"row\": 4, \"column\": 3, \"value\": 0.0, \"row_token\": \"004 ,\", \"col_token\": \"003 422\"}, {\"row\": 4, \"column\": 4, \"value\": 0.33793285489082336, \"row_token\": \"004 ,\", \"col_token\": \"004 ,\"}], \"data-bb800499529ee6f86ff70e866cc40c12\": [{\"row\": 0, \"column\": 0, \"value\": 1.1111111640930176, \"row_token\": \"000 <s>\", \"col_token\": \"000 <s>\"}, {\"row\": 0, \"column\": 1, \"value\": 0.0, \"row_token\": \"000 <s>\", \"col_token\": \"001  \"}, {\"row\": 0, \"column\": 2, \"value\": 0.0, \"row_token\": \"000 <s>\", \"col_token\": \"002 In\"}, {\"row\": 0, \"column\": 3, \"value\": 0.0, \"row_token\": \"000 <s>\", \"col_token\": \"003 422\"}, {\"row\": 0, \"column\": 4, \"value\": 0.0, \"row_token\": \"000 <s>\", \"col_token\": \"004 ,\"}, {\"row\": 1, \"column\": 0, \"value\": 0.08258578181266785, \"row_token\": \"001  \", \"col_token\": \"000 <s>\"}, {\"row\": 1, \"column\": 1, \"value\": 1.028525471687317, \"row_token\": \"001  \", \"col_token\": \"001  \"}, {\"row\": 1, \"column\": 2, \"value\": 0.0, \"row_token\": \"001  \", \"col_token\": \"002 In\"}, {\"row\": 1, \"column\": 3, \"value\": 0.0, \"row_token\": \"001  \", \"col_token\": \"003 422\"}, {\"row\": 1, \"column\": 4, \"value\": 0.0, \"row_token\": \"001  \", \"col_token\": \"004 ,\"}, {\"row\": 2, \"column\": 0, \"value\": 0.015826718881726265, \"row_token\": \"002 In\", \"col_token\": \"000 <s>\"}, {\"row\": 2, \"column\": 1, \"value\": 0.020196538418531418, \"row_token\": \"002 In\", \"col_token\": \"001  \"}, {\"row\": 2, \"column\": 2, \"value\": 1.0750880241394043, \"row_token\": \"002 In\", \"col_token\": \"002 In\"}, {\"row\": 2, \"column\": 3, \"value\": 0.0, \"row_token\": \"002 In\", \"col_token\": \"003 422\"}, {\"row\": 2, \"column\": 4, \"value\": 0.0, \"row_token\": \"002 In\", \"col_token\": \"004 ,\"}, {\"row\": 3, \"column\": 0, \"value\": 0.08851909637451172, \"row_token\": \"003 422\", \"col_token\": \"000 <s>\"}, {\"row\": 3, \"column\": 1, \"value\": 0.013435275293886662, \"row_token\": \"003 422\", \"col_token\": \"001  \"}, {\"row\": 3, \"column\": 2, \"value\": 0.8683484792709351, \"row_token\": \"003 422\", \"col_token\": \"002 In\"}, {\"row\": 3, \"column\": 3, \"value\": 0.1408083140850067, \"row_token\": \"003 422\", \"col_token\": \"003 422\"}, {\"row\": 3, \"column\": 4, \"value\": 0.0, \"row_token\": \"003 422\", \"col_token\": \"004 ,\"}, {\"row\": 4, \"column\": 0, \"value\": 0.005108675919473171, \"row_token\": \"004 ,\", \"col_token\": \"000 <s>\"}, {\"row\": 4, \"column\": 1, \"value\": 0.0023426369298249483, \"row_token\": \"004 ,\", \"col_token\": \"001  \"}, {\"row\": 4, \"column\": 2, \"value\": 0.11482716351747513, \"row_token\": \"004 ,\", \"col_token\": \"002 In\"}, {\"row\": 4, \"column\": 3, \"value\": 0.9831293821334839, \"row_token\": \"004 ,\", \"col_token\": \"003 422\"}, {\"row\": 4, \"column\": 4, \"value\": 0.005703367292881012, \"row_token\": \"004 ,\", \"col_token\": \"004 ,\"}], \"data-37ef2aa9f8e1c006e8f9006537d95718\": [{\"row\": 0, \"column\": 0, \"value\": 1.1111111640930176, \"row_token\": \"000 <s>\", \"col_token\": \"000 <s>\"}, {\"row\": 0, \"column\": 1, \"value\": 0.0, \"row_token\": \"000 <s>\", \"col_token\": \"001  \"}, {\"row\": 0, \"column\": 2, \"value\": 0.0, \"row_token\": \"000 <s>\", \"col_token\": \"002 In\"}, {\"row\": 0, \"column\": 3, \"value\": 0.0, \"row_token\": \"000 <s>\", \"col_token\": \"003 422\"}, {\"row\": 0, \"column\": 4, \"value\": 0.0, \"row_token\": \"000 <s>\", \"col_token\": \"004 ,\"}, {\"row\": 1, \"column\": 0, \"value\": 0.06458573043346405, \"row_token\": \"001  \", \"col_token\": \"000 <s>\"}, {\"row\": 1, \"column\": 1, \"value\": 1.046525478363037, \"row_token\": \"001  \", \"col_token\": \"001  \"}, {\"row\": 1, \"column\": 2, \"value\": 0.0, \"row_token\": \"001  \", \"col_token\": \"002 In\"}, {\"row\": 1, \"column\": 3, \"value\": 0.0, \"row_token\": \"001  \", \"col_token\": \"003 422\"}, {\"row\": 1, \"column\": 4, \"value\": 0.0, \"row_token\": \"001  \", \"col_token\": \"004 ,\"}, {\"row\": 2, \"column\": 0, \"value\": 0.003788864007219672, \"row_token\": \"002 In\", \"col_token\": \"000 <s>\"}, {\"row\": 2, \"column\": 1, \"value\": 0.00739959254860878, \"row_token\": \"002 In\", \"col_token\": \"001  \"}, {\"row\": 2, \"column\": 2, \"value\": 1.0999226570129395, \"row_token\": \"002 In\", \"col_token\": \"002 In\"}, {\"row\": 2, \"column\": 3, \"value\": 0.0, \"row_token\": \"002 In\", \"col_token\": \"003 422\"}, {\"row\": 2, \"column\": 4, \"value\": 0.0, \"row_token\": \"002 In\", \"col_token\": \"004 ,\"}, {\"row\": 3, \"column\": 0, \"value\": 0.0, \"row_token\": \"003 422\", \"col_token\": \"000 <s>\"}, {\"row\": 3, \"column\": 1, \"value\": 0.0027240205090492964, \"row_token\": \"003 422\", \"col_token\": \"001  \"}, {\"row\": 3, \"column\": 2, \"value\": 0.2116251438856125, \"row_token\": \"003 422\", \"col_token\": \"002 In\"}, {\"row\": 3, \"column\": 3, \"value\": 0.8939099907875061, \"row_token\": \"003 422\", \"col_token\": \"003 422\"}, {\"row\": 3, \"column\": 4, \"value\": 0.0, \"row_token\": \"003 422\", \"col_token\": \"004 ,\"}, {\"row\": 4, \"column\": 0, \"value\": 0.14418819546699524, \"row_token\": \"004 ,\", \"col_token\": \"000 <s>\"}, {\"row\": 4, \"column\": 1, \"value\": 0.033489130437374115, \"row_token\": \"004 ,\", \"col_token\": \"001  \"}, {\"row\": 4, \"column\": 2, \"value\": 0.18582525849342346, \"row_token\": \"004 ,\", \"col_token\": \"002 In\"}, {\"row\": 4, \"column\": 3, \"value\": 0.68513023853302, \"row_token\": \"004 ,\", \"col_token\": \"003 422\"}, {\"row\": 4, \"column\": 4, \"value\": 0.062478311359882355, \"row_token\": \"004 ,\", \"col_token\": \"004 ,\"}], \"data-2a6b1ff243569a77113a9ec388e2c6e2\": [{\"row\": 0, \"column\": 0, \"value\": 1.1111111640930176, \"row_token\": \"000 <s>\", \"col_token\": \"000 <s>\"}, {\"row\": 0, \"column\": 1, \"value\": 0.0, \"row_token\": \"000 <s>\", \"col_token\": \"001  \"}, {\"row\": 0, \"column\": 2, \"value\": 0.0, \"row_token\": \"000 <s>\", \"col_token\": \"002 In\"}, {\"row\": 0, \"column\": 3, \"value\": 0.0, \"row_token\": \"000 <s>\", \"col_token\": \"003 422\"}, {\"row\": 0, \"column\": 4, \"value\": 0.0, \"row_token\": \"000 <s>\", \"col_token\": \"004 ,\"}, {\"row\": 1, \"column\": 0, \"value\": 0.00938935112208128, \"row_token\": \"001  \", \"col_token\": \"000 <s>\"}, {\"row\": 1, \"column\": 1, \"value\": 1.1017218828201294, \"row_token\": \"001  \", \"col_token\": \"001  \"}, {\"row\": 1, \"column\": 2, \"value\": 0.0, \"row_token\": \"001  \", \"col_token\": \"002 In\"}, {\"row\": 1, \"column\": 3, \"value\": 0.0, \"row_token\": \"001  \", \"col_token\": \"003 422\"}, {\"row\": 1, \"column\": 4, \"value\": 0.0, \"row_token\": \"001  \", \"col_token\": \"004 ,\"}, {\"row\": 2, \"column\": 0, \"value\": 0.11675068736076355, \"row_token\": \"002 In\", \"col_token\": \"000 <s>\"}, {\"row\": 2, \"column\": 1, \"value\": 0.0, \"row_token\": \"002 In\", \"col_token\": \"001  \"}, {\"row\": 2, \"column\": 2, \"value\": 0.0, \"row_token\": \"002 In\", \"col_token\": \"002 In\"}, {\"row\": 2, \"column\": 3, \"value\": 0.0, \"row_token\": \"002 In\", \"col_token\": \"003 422\"}, {\"row\": 2, \"column\": 4, \"value\": 0.0, \"row_token\": \"002 In\", \"col_token\": \"004 ,\"}, {\"row\": 3, \"column\": 0, \"value\": 0.0006565971998497844, \"row_token\": \"003 422\", \"col_token\": \"000 <s>\"}, {\"row\": 3, \"column\": 1, \"value\": 0.002307559596374631, \"row_token\": \"003 422\", \"col_token\": \"001  \"}, {\"row\": 3, \"column\": 2, \"value\": 0.2291421741247177, \"row_token\": \"003 422\", \"col_token\": \"002 In\"}, {\"row\": 3, \"column\": 3, \"value\": 0.0, \"row_token\": \"003 422\", \"col_token\": \"003 422\"}, {\"row\": 3, \"column\": 4, \"value\": 0.0, \"row_token\": \"003 422\", \"col_token\": \"004 ,\"}, {\"row\": 4, \"column\": 0, \"value\": 0.003591868095099926, \"row_token\": \"004 ,\", \"col_token\": \"000 <s>\"}, {\"row\": 4, \"column\": 1, \"value\": 0.006050746887922287, \"row_token\": \"004 ,\", \"col_token\": \"001  \"}, {\"row\": 4, \"column\": 2, \"value\": 0.10034853965044022, \"row_token\": \"004 ,\", \"col_token\": \"002 In\"}, {\"row\": 4, \"column\": 3, \"value\": 0.682403564453125, \"row_token\": \"004 ,\", \"col_token\": \"003 422\"}, {\"row\": 4, \"column\": 4, \"value\": 0.31871652603149414, \"row_token\": \"004 ,\", \"col_token\": \"004 ,\"}], \"data-f53151517c1e4e87ee6e119c4ad3909d\": [{\"row\": 0, \"column\": 0, \"value\": 1.1111111640930176, \"row_token\": \"000 <s>\", \"col_token\": \"000 <s>\"}, {\"row\": 0, \"column\": 1, \"value\": 0.0, \"row_token\": \"000 <s>\", \"col_token\": \"001  \"}, {\"row\": 0, \"column\": 2, \"value\": 0.0, \"row_token\": \"000 <s>\", \"col_token\": \"002 In\"}, {\"row\": 0, \"column\": 3, \"value\": 0.0, \"row_token\": \"000 <s>\", \"col_token\": \"003 422\"}, {\"row\": 0, \"column\": 4, \"value\": 0.0, \"row_token\": \"000 <s>\", \"col_token\": \"004 ,\"}, {\"row\": 1, \"column\": 0, \"value\": 0.204074889421463, \"row_token\": \"001  \", \"col_token\": \"000 <s>\"}, {\"row\": 1, \"column\": 1, \"value\": 0.907036304473877, \"row_token\": \"001  \", \"col_token\": \"001  \"}, {\"row\": 1, \"column\": 2, \"value\": 0.0, \"row_token\": \"001  \", \"col_token\": \"002 In\"}, {\"row\": 1, \"column\": 3, \"value\": 0.0, \"row_token\": \"001  \", \"col_token\": \"003 422\"}, {\"row\": 1, \"column\": 4, \"value\": 0.0, \"row_token\": \"001  \", \"col_token\": \"004 ,\"}, {\"row\": 2, \"column\": 0, \"value\": 0.02175702527165413, \"row_token\": \"002 In\", \"col_token\": \"000 <s>\"}, {\"row\": 2, \"column\": 1, \"value\": 0.011660170741379261, \"row_token\": \"002 In\", \"col_token\": \"001  \"}, {\"row\": 2, \"column\": 2, \"value\": 0.0, \"row_token\": \"002 In\", \"col_token\": \"002 In\"}, {\"row\": 2, \"column\": 3, \"value\": 0.0, \"row_token\": \"002 In\", \"col_token\": \"003 422\"}, {\"row\": 2, \"column\": 4, \"value\": 0.0, \"row_token\": \"002 In\", \"col_token\": \"004 ,\"}, {\"row\": 3, \"column\": 0, \"value\": 0.4413006007671356, \"row_token\": \"003 422\", \"col_token\": \"000 <s>\"}, {\"row\": 3, \"column\": 1, \"value\": 0.6346777677536011, \"row_token\": \"003 422\", \"col_token\": \"001  \"}, {\"row\": 3, \"column\": 2, \"value\": 0.007323312107473612, \"row_token\": \"003 422\", \"col_token\": \"002 In\"}, {\"row\": 3, \"column\": 3, \"value\": 0.027809463441371918, \"row_token\": \"003 422\", \"col_token\": \"003 422\"}, {\"row\": 3, \"column\": 4, \"value\": 0.0, \"row_token\": \"003 422\", \"col_token\": \"004 ,\"}, {\"row\": 4, \"column\": 0, \"value\": 0.002716782968491316, \"row_token\": \"004 ,\", \"col_token\": \"000 <s>\"}, {\"row\": 4, \"column\": 1, \"value\": 0.004505213815718889, \"row_token\": \"004 ,\", \"col_token\": \"001  \"}, {\"row\": 4, \"column\": 2, \"value\": 0.015318194404244423, \"row_token\": \"004 ,\", \"col_token\": \"002 In\"}, {\"row\": 4, \"column\": 3, \"value\": 0.91653972864151, \"row_token\": \"004 ,\", \"col_token\": \"003 422\"}, {\"row\": 4, \"column\": 4, \"value\": 0.1720311939716339, \"row_token\": \"004 ,\", \"col_token\": \"004 ,\"}], \"data-8139b5e9b69d28e744fe93d573e5a20d\": [{\"row\": 0, \"column\": 0, \"value\": 1.1111111640930176, \"row_token\": \"000 <s>\", \"col_token\": \"000 <s>\"}, {\"row\": 0, \"column\": 1, \"value\": 0.0, \"row_token\": \"000 <s>\", \"col_token\": \"001  \"}, {\"row\": 0, \"column\": 2, \"value\": 0.0, \"row_token\": \"000 <s>\", \"col_token\": \"002 In\"}, {\"row\": 0, \"column\": 3, \"value\": 0.0, \"row_token\": \"000 <s>\", \"col_token\": \"003 422\"}, {\"row\": 0, \"column\": 4, \"value\": 0.0, \"row_token\": \"000 <s>\", \"col_token\": \"004 ,\"}, {\"row\": 1, \"column\": 0, \"value\": 0.2879888415336609, \"row_token\": \"001  \", \"col_token\": \"000 <s>\"}, {\"row\": 1, \"column\": 1, \"value\": 0.8231223821640015, \"row_token\": \"001  \", \"col_token\": \"001  \"}, {\"row\": 1, \"column\": 2, \"value\": 0.0, \"row_token\": \"001  \", \"col_token\": \"002 In\"}, {\"row\": 1, \"column\": 3, \"value\": 0.0, \"row_token\": \"001  \", \"col_token\": \"003 422\"}, {\"row\": 1, \"column\": 4, \"value\": 0.0, \"row_token\": \"001  \", \"col_token\": \"004 ,\"}, {\"row\": 2, \"column\": 0, \"value\": 0.5973159670829773, \"row_token\": \"002 In\", \"col_token\": \"000 <s>\"}, {\"row\": 2, \"column\": 1, \"value\": 0.0, \"row_token\": \"002 In\", \"col_token\": \"001  \"}, {\"row\": 2, \"column\": 2, \"value\": 0.011561702936887741, \"row_token\": \"002 In\", \"col_token\": \"002 In\"}, {\"row\": 2, \"column\": 3, \"value\": 0.0, \"row_token\": \"002 In\", \"col_token\": \"003 422\"}, {\"row\": 2, \"column\": 4, \"value\": 0.0, \"row_token\": \"002 In\", \"col_token\": \"004 ,\"}, {\"row\": 3, \"column\": 0, \"value\": 0.508918285369873, \"row_token\": \"003 422\", \"col_token\": \"000 <s>\"}, {\"row\": 3, \"column\": 1, \"value\": 0.31297552585601807, \"row_token\": \"003 422\", \"col_token\": \"001  \"}, {\"row\": 3, \"column\": 2, \"value\": 0.22443118691444397, \"row_token\": \"003 422\", \"col_token\": \"002 In\"}, {\"row\": 3, \"column\": 3, \"value\": 0.06478627026081085, \"row_token\": \"003 422\", \"col_token\": \"003 422\"}, {\"row\": 3, \"column\": 4, \"value\": 0.0, \"row_token\": \"003 422\", \"col_token\": \"004 ,\"}, {\"row\": 4, \"column\": 0, \"value\": 0.30955320596694946, \"row_token\": \"004 ,\", \"col_token\": \"000 <s>\"}, {\"row\": 4, \"column\": 1, \"value\": 0.060288287699222565, \"row_token\": \"004 ,\", \"col_token\": \"001  \"}, {\"row\": 4, \"column\": 2, \"value\": 0.019982099533081055, \"row_token\": \"004 ,\", \"col_token\": \"002 In\"}, {\"row\": 4, \"column\": 3, \"value\": 0.6729395389556885, \"row_token\": \"004 ,\", \"col_token\": \"003 422\"}, {\"row\": 4, \"column\": 4, \"value\": 0.04834799841046333, \"row_token\": \"004 ,\", \"col_token\": \"004 ,\"}], \"data-2d7a65210d9ef70d6242b8257384591d\": [{\"row\": 0, \"column\": 0, \"value\": 1.1111111640930176, \"row_token\": \"000 <s>\", \"col_token\": \"000 <s>\"}, {\"row\": 0, \"column\": 1, \"value\": 0.0, \"row_token\": \"000 <s>\", \"col_token\": \"001  \"}, {\"row\": 0, \"column\": 2, \"value\": 0.0, \"row_token\": \"000 <s>\", \"col_token\": \"002 In\"}, {\"row\": 0, \"column\": 3, \"value\": 0.0, \"row_token\": \"000 <s>\", \"col_token\": \"003 422\"}, {\"row\": 0, \"column\": 4, \"value\": 0.0, \"row_token\": \"000 <s>\", \"col_token\": \"004 ,\"}, {\"row\": 1, \"column\": 0, \"value\": 0.6588416695594788, \"row_token\": \"001  \", \"col_token\": \"000 <s>\"}, {\"row\": 1, \"column\": 1, \"value\": 0.45226943492889404, \"row_token\": \"001  \", \"col_token\": \"001  \"}, {\"row\": 1, \"column\": 2, \"value\": 0.0, \"row_token\": \"001  \", \"col_token\": \"002 In\"}, {\"row\": 1, \"column\": 3, \"value\": 0.0, \"row_token\": \"001  \", \"col_token\": \"003 422\"}, {\"row\": 1, \"column\": 4, \"value\": 0.0, \"row_token\": \"001  \", \"col_token\": \"004 ,\"}, {\"row\": 2, \"column\": 0, \"value\": 0.33035892248153687, \"row_token\": \"002 In\", \"col_token\": \"000 <s>\"}, {\"row\": 2, \"column\": 1, \"value\": 0.6611286997795105, \"row_token\": \"002 In\", \"col_token\": \"001  \"}, {\"row\": 2, \"column\": 2, \"value\": 0.11962343752384186, \"row_token\": \"002 In\", \"col_token\": \"002 In\"}, {\"row\": 2, \"column\": 3, \"value\": 0.0, \"row_token\": \"002 In\", \"col_token\": \"003 422\"}, {\"row\": 2, \"column\": 4, \"value\": 0.0, \"row_token\": \"002 In\", \"col_token\": \"004 ,\"}, {\"row\": 3, \"column\": 0, \"value\": 0.3659327030181885, \"row_token\": \"003 422\", \"col_token\": \"000 <s>\"}, {\"row\": 3, \"column\": 1, \"value\": 0.6425828337669373, \"row_token\": \"003 422\", \"col_token\": \"001  \"}, {\"row\": 3, \"column\": 2, \"value\": 0.0870877206325531, \"row_token\": \"003 422\", \"col_token\": \"002 In\"}, {\"row\": 3, \"column\": 3, \"value\": 0.015507963486015797, \"row_token\": \"003 422\", \"col_token\": \"003 422\"}, {\"row\": 3, \"column\": 4, \"value\": 0.0, \"row_token\": \"003 422\", \"col_token\": \"004 ,\"}, {\"row\": 4, \"column\": 0, \"value\": 0.4007563292980194, \"row_token\": \"004 ,\", \"col_token\": \"000 <s>\"}, {\"row\": 4, \"column\": 1, \"value\": 0.507745087146759, \"row_token\": \"004 ,\", \"col_token\": \"001  \"}, {\"row\": 4, \"column\": 2, \"value\": 0.05161164328455925, \"row_token\": \"004 ,\", \"col_token\": \"002 In\"}, {\"row\": 4, \"column\": 3, \"value\": 0.11196650564670563, \"row_token\": \"004 ,\", \"col_token\": \"003 422\"}, {\"row\": 4, \"column\": 4, \"value\": 0.039031703025102615, \"row_token\": \"004 ,\", \"col_token\": \"004 ,\"}], \"data-47395a55ccb4f1c4ef43f2423a6df931\": [{\"row\": 0, \"column\": 0, \"value\": 1.1111111640930176, \"row_token\": \"000 <s>\", \"col_token\": \"000 <s>\"}, {\"row\": 0, \"column\": 1, \"value\": 0.0, \"row_token\": \"000 <s>\", \"col_token\": \"001  \"}, {\"row\": 0, \"column\": 2, \"value\": 0.0, \"row_token\": \"000 <s>\", \"col_token\": \"002 In\"}, {\"row\": 0, \"column\": 3, \"value\": 0.0, \"row_token\": \"000 <s>\", \"col_token\": \"003 422\"}, {\"row\": 0, \"column\": 4, \"value\": 0.0, \"row_token\": \"000 <s>\", \"col_token\": \"004 ,\"}, {\"row\": 1, \"column\": 0, \"value\": 0.0430188812315464, \"row_token\": \"001  \", \"col_token\": \"000 <s>\"}, {\"row\": 1, \"column\": 1, \"value\": 1.0680922269821167, \"row_token\": \"001  \", \"col_token\": \"001  \"}, {\"row\": 1, \"column\": 2, \"value\": 0.0, \"row_token\": \"001  \", \"col_token\": \"002 In\"}, {\"row\": 1, \"column\": 3, \"value\": 0.0, \"row_token\": \"001  \", \"col_token\": \"003 422\"}, {\"row\": 1, \"column\": 4, \"value\": 0.0, \"row_token\": \"001  \", \"col_token\": \"004 ,\"}, {\"row\": 2, \"column\": 0, \"value\": 0.033966224640607834, \"row_token\": \"002 In\", \"col_token\": \"000 <s>\"}, {\"row\": 2, \"column\": 1, \"value\": 0.0008269258541986346, \"row_token\": \"002 In\", \"col_token\": \"001  \"}, {\"row\": 2, \"column\": 2, \"value\": 1.0763180255889893, \"row_token\": \"002 In\", \"col_token\": \"002 In\"}, {\"row\": 2, \"column\": 3, \"value\": 0.0, \"row_token\": \"002 In\", \"col_token\": \"003 422\"}, {\"row\": 2, \"column\": 4, \"value\": 0.0, \"row_token\": \"002 In\", \"col_token\": \"004 ,\"}, {\"row\": 3, \"column\": 0, \"value\": 0.18427009880542755, \"row_token\": \"003 422\", \"col_token\": \"000 <s>\"}, {\"row\": 3, \"column\": 1, \"value\": 0.0037242290563881397, \"row_token\": \"003 422\", \"col_token\": \"001  \"}, {\"row\": 3, \"column\": 2, \"value\": 0.6228793859481812, \"row_token\": \"003 422\", \"col_token\": \"002 In\"}, {\"row\": 3, \"column\": 3, \"value\": 0.30023741722106934, \"row_token\": \"003 422\", \"col_token\": \"003 422\"}, {\"row\": 3, \"column\": 4, \"value\": 0.0, \"row_token\": \"003 422\", \"col_token\": \"004 ,\"}, {\"row\": 4, \"column\": 0, \"value\": 0.0012052020756527781, \"row_token\": \"004 ,\", \"col_token\": \"000 <s>\"}, {\"row\": 4, \"column\": 1, \"value\": 0.0, \"row_token\": \"004 ,\", \"col_token\": \"001  \"}, {\"row\": 4, \"column\": 2, \"value\": 0.22503253817558289, \"row_token\": \"004 ,\", \"col_token\": \"002 In\"}, {\"row\": 4, \"column\": 3, \"value\": 0.44857123494148254, \"row_token\": \"004 ,\", \"col_token\": \"003 422\"}, {\"row\": 4, \"column\": 4, \"value\": 0.43623676896095276, \"row_token\": \"004 ,\", \"col_token\": \"004 ,\"}], \"data-8883c3a0f5b7555e5fd1b44c23868788\": [{\"row\": 0, \"column\": 0, \"value\": 1.1111111640930176, \"row_token\": \"000 <s>\", \"col_token\": \"000 <s>\"}, {\"row\": 0, \"column\": 1, \"value\": 0.0, \"row_token\": \"000 <s>\", \"col_token\": \"001  \"}, {\"row\": 0, \"column\": 2, \"value\": 0.0, \"row_token\": \"000 <s>\", \"col_token\": \"002 In\"}, {\"row\": 0, \"column\": 3, \"value\": 0.0, \"row_token\": \"000 <s>\", \"col_token\": \"003 422\"}, {\"row\": 0, \"column\": 4, \"value\": 0.0, \"row_token\": \"000 <s>\", \"col_token\": \"004 ,\"}, {\"row\": 1, \"column\": 0, \"value\": 0.01532062329351902, \"row_token\": \"001  \", \"col_token\": \"000 <s>\"}, {\"row\": 1, \"column\": 1, \"value\": 1.0957905054092407, \"row_token\": \"001  \", \"col_token\": \"001  \"}, {\"row\": 1, \"column\": 2, \"value\": 0.0, \"row_token\": \"001  \", \"col_token\": \"002 In\"}, {\"row\": 1, \"column\": 3, \"value\": 0.0, \"row_token\": \"001  \", \"col_token\": \"003 422\"}, {\"row\": 1, \"column\": 4, \"value\": 0.0, \"row_token\": \"001  \", \"col_token\": \"004 ,\"}, {\"row\": 2, \"column\": 0, \"value\": 0.2445678859949112, \"row_token\": \"002 In\", \"col_token\": \"000 <s>\"}, {\"row\": 2, \"column\": 1, \"value\": 0.45553961396217346, \"row_token\": \"002 In\", \"col_token\": \"001  \"}, {\"row\": 2, \"column\": 2, \"value\": 0.41100361943244934, \"row_token\": \"002 In\", \"col_token\": \"002 In\"}, {\"row\": 2, \"column\": 3, \"value\": 0.0, \"row_token\": \"002 In\", \"col_token\": \"003 422\"}, {\"row\": 2, \"column\": 4, \"value\": 0.0, \"row_token\": \"002 In\", \"col_token\": \"004 ,\"}, {\"row\": 3, \"column\": 0, \"value\": 0.030895447358489037, \"row_token\": \"003 422\", \"col_token\": \"000 <s>\"}, {\"row\": 3, \"column\": 1, \"value\": 0.8504254221916199, \"row_token\": \"003 422\", \"col_token\": \"001  \"}, {\"row\": 3, \"column\": 2, \"value\": 0.03291047364473343, \"row_token\": \"003 422\", \"col_token\": \"002 In\"}, {\"row\": 3, \"column\": 3, \"value\": 0.19687984883785248, \"row_token\": \"003 422\", \"col_token\": \"003 422\"}, {\"row\": 3, \"column\": 4, \"value\": 0.0, \"row_token\": \"003 422\", \"col_token\": \"004 ,\"}, {\"row\": 4, \"column\": 0, \"value\": 0.002358743455260992, \"row_token\": \"004 ,\", \"col_token\": \"000 <s>\"}, {\"row\": 4, \"column\": 1, \"value\": 0.026416584849357605, \"row_token\": \"004 ,\", \"col_token\": \"001  \"}, {\"row\": 4, \"column\": 2, \"value\": 0.05439125746488571, \"row_token\": \"004 ,\", \"col_token\": \"002 In\"}, {\"row\": 4, \"column\": 3, \"value\": 1.0200861692428589, \"row_token\": \"004 ,\", \"col_token\": \"003 422\"}, {\"row\": 4, \"column\": 4, \"value\": 0.007858441211283207, \"row_token\": \"004 ,\", \"col_token\": \"004 ,\"}], \"data-80728f1678ed8f78cb551b65dc2e02d1\": [{\"row\": 0, \"column\": 0, \"value\": 0.0, \"row_token\": \"000 <s>\", \"col_token\": \"000 <s>\"}, {\"row\": 0, \"column\": 1, \"value\": 0.0, \"row_token\": \"000 <s>\", \"col_token\": \"001  \"}, {\"row\": 0, \"column\": 2, \"value\": 0.0, \"row_token\": \"000 <s>\", \"col_token\": \"002 In\"}, {\"row\": 0, \"column\": 3, \"value\": 0.0, \"row_token\": \"000 <s>\", \"col_token\": \"003 422\"}, {\"row\": 0, \"column\": 4, \"value\": 0.0, \"row_token\": \"000 <s>\", \"col_token\": \"004 ,\"}, {\"row\": 1, \"column\": 0, \"value\": 0.3150712847709656, \"row_token\": \"001  \", \"col_token\": \"000 <s>\"}, {\"row\": 1, \"column\": 1, \"value\": 0.7960398197174072, \"row_token\": \"001  \", \"col_token\": \"001  \"}, {\"row\": 1, \"column\": 2, \"value\": 0.0, \"row_token\": \"001  \", \"col_token\": \"002 In\"}, {\"row\": 1, \"column\": 3, \"value\": 0.0, \"row_token\": \"001  \", \"col_token\": \"003 422\"}, {\"row\": 1, \"column\": 4, \"value\": 0.0, \"row_token\": \"001  \", \"col_token\": \"004 ,\"}, {\"row\": 2, \"column\": 0, \"value\": 0.66098552942276, \"row_token\": \"002 In\", \"col_token\": \"000 <s>\"}, {\"row\": 2, \"column\": 1, \"value\": 0.27432820200920105, \"row_token\": \"002 In\", \"col_token\": \"001  \"}, {\"row\": 2, \"column\": 2, \"value\": 0.17579741775989532, \"row_token\": \"002 In\", \"col_token\": \"002 In\"}, {\"row\": 2, \"column\": 3, \"value\": 0.0, \"row_token\": \"002 In\", \"col_token\": \"003 422\"}, {\"row\": 2, \"column\": 4, \"value\": 0.0, \"row_token\": \"002 In\", \"col_token\": \"004 ,\"}, {\"row\": 3, \"column\": 0, \"value\": 0.0, \"row_token\": \"003 422\", \"col_token\": \"000 <s>\"}, {\"row\": 3, \"column\": 1, \"value\": 0.7821879982948303, \"row_token\": \"003 422\", \"col_token\": \"001  \"}, {\"row\": 3, \"column\": 2, \"value\": 0.0027406392619013786, \"row_token\": \"003 422\", \"col_token\": \"002 In\"}, {\"row\": 3, \"column\": 3, \"value\": 0.022746415808796883, \"row_token\": \"003 422\", \"col_token\": \"003 422\"}, {\"row\": 3, \"column\": 4, \"value\": 0.0, \"row_token\": \"003 422\", \"col_token\": \"004 ,\"}, {\"row\": 4, \"column\": 0, \"value\": 0.806000828742981, \"row_token\": \"004 ,\", \"col_token\": \"000 <s>\"}, {\"row\": 4, \"column\": 1, \"value\": 0.2008916586637497, \"row_token\": \"004 ,\", \"col_token\": \"001  \"}, {\"row\": 4, \"column\": 2, \"value\": 0.006263377610594034, \"row_token\": \"004 ,\", \"col_token\": \"002 In\"}, {\"row\": 4, \"column\": 3, \"value\": 0.059881940484046936, \"row_token\": \"004 ,\", \"col_token\": \"003 422\"}, {\"row\": 4, \"column\": 4, \"value\": 0.03807346150279045, \"row_token\": \"004 ,\", \"col_token\": \"004 ,\"}], \"data-f564a3d649e08b569ad135932d865b0d\": [{\"row\": 0, \"column\": 0, \"value\": 1.1111111640930176, \"row_token\": \"000 <s>\", \"col_token\": \"000 <s>\"}, {\"row\": 0, \"column\": 1, \"value\": 0.0, \"row_token\": \"000 <s>\", \"col_token\": \"001  \"}, {\"row\": 0, \"column\": 2, \"value\": 0.0, \"row_token\": \"000 <s>\", \"col_token\": \"002 In\"}, {\"row\": 0, \"column\": 3, \"value\": 0.0, \"row_token\": \"000 <s>\", \"col_token\": \"003 422\"}, {\"row\": 0, \"column\": 4, \"value\": 0.0, \"row_token\": \"000 <s>\", \"col_token\": \"004 ,\"}, {\"row\": 1, \"column\": 0, \"value\": 0.0, \"row_token\": \"001  \", \"col_token\": \"000 <s>\"}, {\"row\": 1, \"column\": 1, \"value\": 0.7179757952690125, \"row_token\": \"001  \", \"col_token\": \"001  \"}, {\"row\": 1, \"column\": 2, \"value\": 0.0, \"row_token\": \"001  \", \"col_token\": \"002 In\"}, {\"row\": 1, \"column\": 3, \"value\": 0.0, \"row_token\": \"001  \", \"col_token\": \"003 422\"}, {\"row\": 1, \"column\": 4, \"value\": 0.0, \"row_token\": \"001  \", \"col_token\": \"004 ,\"}, {\"row\": 2, \"column\": 0, \"value\": 0.029609614983201027, \"row_token\": \"002 In\", \"col_token\": \"000 <s>\"}, {\"row\": 2, \"column\": 1, \"value\": 0.06337158381938934, \"row_token\": \"002 In\", \"col_token\": \"001  \"}, {\"row\": 2, \"column\": 2, \"value\": 0.0, \"row_token\": \"002 In\", \"col_token\": \"002 In\"}, {\"row\": 2, \"column\": 3, \"value\": 0.0, \"row_token\": \"002 In\", \"col_token\": \"003 422\"}, {\"row\": 2, \"column\": 4, \"value\": 0.0, \"row_token\": \"002 In\", \"col_token\": \"004 ,\"}, {\"row\": 3, \"column\": 0, \"value\": 0.0, \"row_token\": \"003 422\", \"col_token\": \"000 <s>\"}, {\"row\": 3, \"column\": 1, \"value\": 0.8204408288002014, \"row_token\": \"003 422\", \"col_token\": \"001  \"}, {\"row\": 3, \"column\": 2, \"value\": 0.0010046475799754262, \"row_token\": \"003 422\", \"col_token\": \"002 In\"}, {\"row\": 3, \"column\": 3, \"value\": 0.0005857328651472926, \"row_token\": \"003 422\", \"col_token\": \"003 422\"}, {\"row\": 3, \"column\": 4, \"value\": 0.0, \"row_token\": \"003 422\", \"col_token\": \"004 ,\"}, {\"row\": 4, \"column\": 0, \"value\": 0.00024206297530326992, \"row_token\": \"004 ,\", \"col_token\": \"000 <s>\"}, {\"row\": 4, \"column\": 1, \"value\": 0.0, \"row_token\": \"004 ,\", \"col_token\": \"001  \"}, {\"row\": 4, \"column\": 2, \"value\": 0.01100916601717472, \"row_token\": \"004 ,\", \"col_token\": \"002 In\"}, {\"row\": 4, \"column\": 3, \"value\": 1.0687172412872314, \"row_token\": \"004 ,\", \"col_token\": \"003 422\"}, {\"row\": 4, \"column\": 4, \"value\": 0.03056591935455799, \"row_token\": \"004 ,\", \"col_token\": \"004 ,\"}], \"data-beca54ba4e8e2bdf7761557da1d1d9e0\": [{\"row\": 0, \"column\": 0, \"value\": 1.1111111640930176, \"row_token\": \"000 <s>\", \"col_token\": \"000 <s>\"}, {\"row\": 0, \"column\": 1, \"value\": 0.0, \"row_token\": \"000 <s>\", \"col_token\": \"001  \"}, {\"row\": 0, \"column\": 2, \"value\": 0.0, \"row_token\": \"000 <s>\", \"col_token\": \"002 In\"}, {\"row\": 0, \"column\": 3, \"value\": 0.0, \"row_token\": \"000 <s>\", \"col_token\": \"003 422\"}, {\"row\": 0, \"column\": 4, \"value\": 0.0, \"row_token\": \"000 <s>\", \"col_token\": \"004 ,\"}, {\"row\": 1, \"column\": 0, \"value\": 0.0934726819396019, \"row_token\": \"001  \", \"col_token\": \"000 <s>\"}, {\"row\": 1, \"column\": 1, \"value\": 1.0176384449005127, \"row_token\": \"001  \", \"col_token\": \"001  \"}, {\"row\": 1, \"column\": 2, \"value\": 0.0, \"row_token\": \"001  \", \"col_token\": \"002 In\"}, {\"row\": 1, \"column\": 3, \"value\": 0.0, \"row_token\": \"001  \", \"col_token\": \"003 422\"}, {\"row\": 1, \"column\": 4, \"value\": 0.0, \"row_token\": \"001  \", \"col_token\": \"004 ,\"}, {\"row\": 2, \"column\": 0, \"value\": 0.027997497469186783, \"row_token\": \"002 In\", \"col_token\": \"000 <s>\"}, {\"row\": 2, \"column\": 1, \"value\": 0.011191590689122677, \"row_token\": \"002 In\", \"col_token\": \"001  \"}, {\"row\": 2, \"column\": 2, \"value\": 1.0719221830368042, \"row_token\": \"002 In\", \"col_token\": \"002 In\"}, {\"row\": 2, \"column\": 3, \"value\": 0.0, \"row_token\": \"002 In\", \"col_token\": \"003 422\"}, {\"row\": 2, \"column\": 4, \"value\": 0.0, \"row_token\": \"002 In\", \"col_token\": \"004 ,\"}, {\"row\": 3, \"column\": 0, \"value\": 0.08347731828689575, \"row_token\": \"003 422\", \"col_token\": \"000 <s>\"}, {\"row\": 3, \"column\": 1, \"value\": 1.0109899044036865, \"row_token\": \"003 422\", \"col_token\": \"001  \"}, {\"row\": 3, \"column\": 2, \"value\": 0.005765337496995926, \"row_token\": \"003 422\", \"col_token\": \"002 In\"}, {\"row\": 3, \"column\": 3, \"value\": 0.010878670029342175, \"row_token\": \"003 422\", \"col_token\": \"003 422\"}, {\"row\": 3, \"column\": 4, \"value\": 0.0, \"row_token\": \"003 422\", \"col_token\": \"004 ,\"}, {\"row\": 4, \"column\": 0, \"value\": 0.0233672596514225, \"row_token\": \"004 ,\", \"col_token\": \"000 <s>\"}, {\"row\": 4, \"column\": 1, \"value\": 1.0717813968658447, \"row_token\": \"004 ,\", \"col_token\": \"001  \"}, {\"row\": 4, \"column\": 2, \"value\": 0.014764269813895226, \"row_token\": \"004 ,\", \"col_token\": \"002 In\"}, {\"row\": 4, \"column\": 3, \"value\": 0.00041502458043396473, \"row_token\": \"004 ,\", \"col_token\": \"003 422\"}, {\"row\": 4, \"column\": 4, \"value\": 0.0007832186529412866, \"row_token\": \"004 ,\", \"col_token\": \"004 ,\"}], \"data-35929939869c61a2e720727f0c384277\": [{\"row\": 0, \"column\": 0, \"value\": 1.1111111640930176, \"row_token\": \"000 <s>\", \"col_token\": \"000 <s>\"}, {\"row\": 0, \"column\": 1, \"value\": 0.0, \"row_token\": \"000 <s>\", \"col_token\": \"001  \"}, {\"row\": 0, \"column\": 2, \"value\": 0.0, \"row_token\": \"000 <s>\", \"col_token\": \"002 In\"}, {\"row\": 0, \"column\": 3, \"value\": 0.0, \"row_token\": \"000 <s>\", \"col_token\": \"003 422\"}, {\"row\": 0, \"column\": 4, \"value\": 0.0, \"row_token\": \"000 <s>\", \"col_token\": \"004 ,\"}, {\"row\": 1, \"column\": 0, \"value\": 0.8031653165817261, \"row_token\": \"001  \", \"col_token\": \"000 <s>\"}, {\"row\": 1, \"column\": 1, \"value\": 0.3079458475112915, \"row_token\": \"001  \", \"col_token\": \"001  \"}, {\"row\": 1, \"column\": 2, \"value\": 0.0, \"row_token\": \"001  \", \"col_token\": \"002 In\"}, {\"row\": 1, \"column\": 3, \"value\": 0.0, \"row_token\": \"001  \", \"col_token\": \"003 422\"}, {\"row\": 1, \"column\": 4, \"value\": 0.0, \"row_token\": \"001  \", \"col_token\": \"004 ,\"}, {\"row\": 2, \"column\": 0, \"value\": 0.007468163967132568, \"row_token\": \"002 In\", \"col_token\": \"000 <s>\"}, {\"row\": 2, \"column\": 1, \"value\": 0.2851138114929199, \"row_token\": \"002 In\", \"col_token\": \"001  \"}, {\"row\": 2, \"column\": 2, \"value\": 0.8185291886329651, \"row_token\": \"002 In\", \"col_token\": \"002 In\"}, {\"row\": 2, \"column\": 3, \"value\": 0.0, \"row_token\": \"002 In\", \"col_token\": \"003 422\"}, {\"row\": 2, \"column\": 4, \"value\": 0.0, \"row_token\": \"002 In\", \"col_token\": \"004 ,\"}, {\"row\": 3, \"column\": 0, \"value\": 0.15436439216136932, \"row_token\": \"003 422\", \"col_token\": \"000 <s>\"}, {\"row\": 3, \"column\": 1, \"value\": 0.6712558269500732, \"row_token\": \"003 422\", \"col_token\": \"001  \"}, {\"row\": 3, \"column\": 2, \"value\": 0.014590424485504627, \"row_token\": \"003 422\", \"col_token\": \"002 In\"}, {\"row\": 3, \"column\": 3, \"value\": 0.0, \"row_token\": \"003 422\", \"col_token\": \"003 422\"}, {\"row\": 3, \"column\": 4, \"value\": 0.0, \"row_token\": \"003 422\", \"col_token\": \"004 ,\"}, {\"row\": 4, \"column\": 0, \"value\": 0.06320156157016754, \"row_token\": \"004 ,\", \"col_token\": \"000 <s>\"}, {\"row\": 4, \"column\": 1, \"value\": 0.5613148212432861, \"row_token\": \"004 ,\", \"col_token\": \"001  \"}, {\"row\": 4, \"column\": 2, \"value\": 0.11502975225448608, \"row_token\": \"004 ,\", \"col_token\": \"002 In\"}, {\"row\": 4, \"column\": 3, \"value\": 0.2585035562515259, \"row_token\": \"004 ,\", \"col_token\": \"003 422\"}, {\"row\": 4, \"column\": 4, \"value\": 0.11306145787239075, \"row_token\": \"004 ,\", \"col_token\": \"004 ,\"}], \"data-262b8e458c0df7fc9066799bc6d4fd9b\": [{\"row\": 0, \"column\": 0, \"value\": 1.1111111640930176, \"row_token\": \"000 <s>\", \"col_token\": \"000 <s>\"}, {\"row\": 0, \"column\": 1, \"value\": 0.0, \"row_token\": \"000 <s>\", \"col_token\": \"001  \"}, {\"row\": 0, \"column\": 2, \"value\": 0.0, \"row_token\": \"000 <s>\", \"col_token\": \"002 In\"}, {\"row\": 0, \"column\": 3, \"value\": 0.0, \"row_token\": \"000 <s>\", \"col_token\": \"003 422\"}, {\"row\": 0, \"column\": 4, \"value\": 0.0, \"row_token\": \"000 <s>\", \"col_token\": \"004 ,\"}, {\"row\": 1, \"column\": 0, \"value\": 0.015674054622650146, \"row_token\": \"001  \", \"col_token\": \"000 <s>\"}, {\"row\": 1, \"column\": 1, \"value\": 1.0954371690750122, \"row_token\": \"001  \", \"col_token\": \"001  \"}, {\"row\": 1, \"column\": 2, \"value\": 0.0, \"row_token\": \"001  \", \"col_token\": \"002 In\"}, {\"row\": 1, \"column\": 3, \"value\": 0.0, \"row_token\": \"001  \", \"col_token\": \"003 422\"}, {\"row\": 1, \"column\": 4, \"value\": 0.0, \"row_token\": \"001  \", \"col_token\": \"004 ,\"}, {\"row\": 2, \"column\": 0, \"value\": 0.001630662940442562, \"row_token\": \"002 In\", \"col_token\": \"000 <s>\"}, {\"row\": 2, \"column\": 1, \"value\": 1.0934351682662964, \"row_token\": \"002 In\", \"col_token\": \"001  \"}, {\"row\": 2, \"column\": 2, \"value\": 0.016045354306697845, \"row_token\": \"002 In\", \"col_token\": \"002 In\"}, {\"row\": 2, \"column\": 3, \"value\": 0.0, \"row_token\": \"002 In\", \"col_token\": \"003 422\"}, {\"row\": 2, \"column\": 4, \"value\": 0.0, \"row_token\": \"002 In\", \"col_token\": \"004 ,\"}, {\"row\": 3, \"column\": 0, \"value\": 0.0030475067906081676, \"row_token\": \"003 422\", \"col_token\": \"000 <s>\"}, {\"row\": 3, \"column\": 1, \"value\": 0.09018708765506744, \"row_token\": \"003 422\", \"col_token\": \"001  \"}, {\"row\": 3, \"column\": 2, \"value\": 0.9632815718650818, \"row_token\": \"003 422\", \"col_token\": \"002 In\"}, {\"row\": 3, \"column\": 3, \"value\": 0.05459495633840561, \"row_token\": \"003 422\", \"col_token\": \"003 422\"}, {\"row\": 3, \"column\": 4, \"value\": 0.0, \"row_token\": \"003 422\", \"col_token\": \"004 ,\"}, {\"row\": 4, \"column\": 0, \"value\": 0.029063470661640167, \"row_token\": \"004 ,\", \"col_token\": \"000 <s>\"}, {\"row\": 4, \"column\": 1, \"value\": 0.17490094900131226, \"row_token\": \"004 ,\", \"col_token\": \"001  \"}, {\"row\": 4, \"column\": 2, \"value\": 0.7397143840789795, \"row_token\": \"004 ,\", \"col_token\": \"002 In\"}, {\"row\": 4, \"column\": 3, \"value\": 0.0399026945233345, \"row_token\": \"004 ,\", \"col_token\": \"003 422\"}, {\"row\": 4, \"column\": 4, \"value\": 0.0, \"row_token\": \"004 ,\", \"col_token\": \"004 ,\"}], \"data-ce69fd3427615eea35bec0d32333440c\": [{\"row\": 0, \"column\": 0, \"value\": 1.1111111640930176, \"row_token\": \"000 <s>\", \"col_token\": \"000 <s>\"}, {\"row\": 0, \"column\": 1, \"value\": 0.0, \"row_token\": \"000 <s>\", \"col_token\": \"001  \"}, {\"row\": 0, \"column\": 2, \"value\": 0.0, \"row_token\": \"000 <s>\", \"col_token\": \"002 In\"}, {\"row\": 0, \"column\": 3, \"value\": 0.0, \"row_token\": \"000 <s>\", \"col_token\": \"003 422\"}, {\"row\": 0, \"column\": 4, \"value\": 0.0, \"row_token\": \"000 <s>\", \"col_token\": \"004 ,\"}, {\"row\": 1, \"column\": 0, \"value\": 0.9260380864143372, \"row_token\": \"001  \", \"col_token\": \"000 <s>\"}, {\"row\": 1, \"column\": 1, \"value\": 0.1850730925798416, \"row_token\": \"001  \", \"col_token\": \"001  \"}, {\"row\": 1, \"column\": 2, \"value\": 0.0, \"row_token\": \"001  \", \"col_token\": \"002 In\"}, {\"row\": 1, \"column\": 3, \"value\": 0.0, \"row_token\": \"001  \", \"col_token\": \"003 422\"}, {\"row\": 1, \"column\": 4, \"value\": 0.0, \"row_token\": \"001  \", \"col_token\": \"004 ,\"}, {\"row\": 2, \"column\": 0, \"value\": 0.9279443025588989, \"row_token\": \"002 In\", \"col_token\": \"000 <s>\"}, {\"row\": 2, \"column\": 1, \"value\": 0.0861125960946083, \"row_token\": \"002 In\", \"col_token\": \"001  \"}, {\"row\": 2, \"column\": 2, \"value\": 0.09705427289009094, \"row_token\": \"002 In\", \"col_token\": \"002 In\"}, {\"row\": 2, \"column\": 3, \"value\": 0.0, \"row_token\": \"002 In\", \"col_token\": \"003 422\"}, {\"row\": 2, \"column\": 4, \"value\": 0.0, \"row_token\": \"002 In\", \"col_token\": \"004 ,\"}, {\"row\": 3, \"column\": 0, \"value\": 0.012092973105609417, \"row_token\": \"003 422\", \"col_token\": \"000 <s>\"}, {\"row\": 3, \"column\": 1, \"value\": 0.02995328977704048, \"row_token\": \"003 422\", \"col_token\": \"001  \"}, {\"row\": 3, \"column\": 2, \"value\": 1.0051960945129395, \"row_token\": \"003 422\", \"col_token\": \"002 In\"}, {\"row\": 3, \"column\": 3, \"value\": 0.06386886537075043, \"row_token\": \"003 422\", \"col_token\": \"003 422\"}, {\"row\": 3, \"column\": 4, \"value\": 0.0, \"row_token\": \"003 422\", \"col_token\": \"004 ,\"}, {\"row\": 4, \"column\": 0, \"value\": 0.010182376019656658, \"row_token\": \"004 ,\", \"col_token\": \"000 <s>\"}, {\"row\": 4, \"column\": 1, \"value\": 0.011705171316862106, \"row_token\": \"004 ,\", \"col_token\": \"001  \"}, {\"row\": 4, \"column\": 2, \"value\": 0.1985645294189453, \"row_token\": \"004 ,\", \"col_token\": \"002 In\"}, {\"row\": 4, \"column\": 3, \"value\": 0.021495385095477104, \"row_token\": \"004 ,\", \"col_token\": \"003 422\"}, {\"row\": 4, \"column\": 4, \"value\": 0.8691636919975281, \"row_token\": \"004 ,\", \"col_token\": \"004 ,\"}], \"data-e9300640c4d2902e0ed2c3365aad0fbc\": [{\"row\": 0, \"column\": 0, \"value\": 1.1111111640930176, \"row_token\": \"000 <s>\", \"col_token\": \"000 <s>\"}, {\"row\": 0, \"column\": 1, \"value\": 0.0, \"row_token\": \"000 <s>\", \"col_token\": \"001  \"}, {\"row\": 0, \"column\": 2, \"value\": 0.0, \"row_token\": \"000 <s>\", \"col_token\": \"002 In\"}, {\"row\": 0, \"column\": 3, \"value\": 0.0, \"row_token\": \"000 <s>\", \"col_token\": \"003 422\"}, {\"row\": 0, \"column\": 4, \"value\": 0.0, \"row_token\": \"000 <s>\", \"col_token\": \"004 ,\"}, {\"row\": 1, \"column\": 0, \"value\": 0.6149321794509888, \"row_token\": \"001  \", \"col_token\": \"000 <s>\"}, {\"row\": 1, \"column\": 1, \"value\": 0.49617892503738403, \"row_token\": \"001  \", \"col_token\": \"001  \"}, {\"row\": 1, \"column\": 2, \"value\": 0.0, \"row_token\": \"001  \", \"col_token\": \"002 In\"}, {\"row\": 1, \"column\": 3, \"value\": 0.0, \"row_token\": \"001  \", \"col_token\": \"003 422\"}, {\"row\": 1, \"column\": 4, \"value\": 0.0, \"row_token\": \"001  \", \"col_token\": \"004 ,\"}, {\"row\": 2, \"column\": 0, \"value\": 0.0, \"row_token\": \"002 In\", \"col_token\": \"000 <s>\"}, {\"row\": 2, \"column\": 1, \"value\": 0.08080284297466278, \"row_token\": \"002 In\", \"col_token\": \"001  \"}, {\"row\": 2, \"column\": 2, \"value\": 0.03533449023962021, \"row_token\": \"002 In\", \"col_token\": \"002 In\"}, {\"row\": 2, \"column\": 3, \"value\": 0.0, \"row_token\": \"002 In\", \"col_token\": \"003 422\"}, {\"row\": 2, \"column\": 4, \"value\": 0.0, \"row_token\": \"002 In\", \"col_token\": \"004 ,\"}, {\"row\": 3, \"column\": 0, \"value\": 0.02684096433222294, \"row_token\": \"003 422\", \"col_token\": \"000 <s>\"}, {\"row\": 3, \"column\": 1, \"value\": 0.16277635097503662, \"row_token\": \"003 422\", \"col_token\": \"001  \"}, {\"row\": 3, \"column\": 2, \"value\": 0.9100033044815063, \"row_token\": \"003 422\", \"col_token\": \"002 In\"}, {\"row\": 3, \"column\": 3, \"value\": 0.011490525677800179, \"row_token\": \"003 422\", \"col_token\": \"003 422\"}, {\"row\": 3, \"column\": 4, \"value\": 0.0, \"row_token\": \"003 422\", \"col_token\": \"004 ,\"}, {\"row\": 4, \"column\": 0, \"value\": 0.041272345930337906, \"row_token\": \"004 ,\", \"col_token\": \"000 <s>\"}, {\"row\": 4, \"column\": 1, \"value\": 0.07390867173671722, \"row_token\": \"004 ,\", \"col_token\": \"001  \"}, {\"row\": 4, \"column\": 2, \"value\": 0.007319403812289238, \"row_token\": \"004 ,\", \"col_token\": \"002 In\"}, {\"row\": 4, \"column\": 3, \"value\": 0.9878745675086975, \"row_token\": \"004 ,\", \"col_token\": \"003 422\"}, {\"row\": 4, \"column\": 4, \"value\": 0.0007361306925304234, \"row_token\": \"004 ,\", \"col_token\": \"004 ,\"}], \"data-b75759a7ca20bd011ecbad53d72cec8b\": [{\"row\": 0, \"column\": 0, \"value\": 1.1111111640930176, \"row_token\": \"000 <s>\", \"col_token\": \"000 <s>\"}, {\"row\": 0, \"column\": 1, \"value\": 0.0, \"row_token\": \"000 <s>\", \"col_token\": \"001  \"}, {\"row\": 0, \"column\": 2, \"value\": 0.0, \"row_token\": \"000 <s>\", \"col_token\": \"002 In\"}, {\"row\": 0, \"column\": 3, \"value\": 0.0, \"row_token\": \"000 <s>\", \"col_token\": \"003 422\"}, {\"row\": 0, \"column\": 4, \"value\": 0.0, \"row_token\": \"000 <s>\", \"col_token\": \"004 ,\"}, {\"row\": 1, \"column\": 0, \"value\": 0.002606392838060856, \"row_token\": \"001  \", \"col_token\": \"000 <s>\"}, {\"row\": 1, \"column\": 1, \"value\": 1.1085047721862793, \"row_token\": \"001  \", \"col_token\": \"001  \"}, {\"row\": 1, \"column\": 2, \"value\": 0.0, \"row_token\": \"001  \", \"col_token\": \"002 In\"}, {\"row\": 1, \"column\": 3, \"value\": 0.0, \"row_token\": \"001  \", \"col_token\": \"003 422\"}, {\"row\": 1, \"column\": 4, \"value\": 0.0, \"row_token\": \"001  \", \"col_token\": \"004 ,\"}, {\"row\": 2, \"column\": 0, \"value\": 1.1077789068222046, \"row_token\": \"002 In\", \"col_token\": \"000 <s>\"}, {\"row\": 2, \"column\": 1, \"value\": 0.0016090787248685956, \"row_token\": \"002 In\", \"col_token\": \"001  \"}, {\"row\": 2, \"column\": 2, \"value\": 0.0017231313977390528, \"row_token\": \"002 In\", \"col_token\": \"002 In\"}, {\"row\": 2, \"column\": 3, \"value\": 0.0, \"row_token\": \"002 In\", \"col_token\": \"003 422\"}, {\"row\": 2, \"column\": 4, \"value\": 0.0, \"row_token\": \"002 In\", \"col_token\": \"004 ,\"}, {\"row\": 3, \"column\": 0, \"value\": 0.0003688913711812347, \"row_token\": \"003 422\", \"col_token\": \"000 <s>\"}, {\"row\": 3, \"column\": 1, \"value\": 0.08984020352363586, \"row_token\": \"003 422\", \"col_token\": \"001  \"}, {\"row\": 3, \"column\": 2, \"value\": 0.7669997215270996, \"row_token\": \"003 422\", \"col_token\": \"002 In\"}, {\"row\": 3, \"column\": 3, \"value\": 0.253902405500412, \"row_token\": \"003 422\", \"col_token\": \"003 422\"}, {\"row\": 3, \"column\": 4, \"value\": 0.0, \"row_token\": \"003 422\", \"col_token\": \"004 ,\"}, {\"row\": 4, \"column\": 0, \"value\": 0.04058210179209709, \"row_token\": \"004 ,\", \"col_token\": \"000 <s>\"}, {\"row\": 4, \"column\": 1, \"value\": 0.15992456674575806, \"row_token\": \"004 ,\", \"col_token\": \"001  \"}, {\"row\": 4, \"column\": 2, \"value\": 0.810919463634491, \"row_token\": \"004 ,\", \"col_token\": \"002 In\"}, {\"row\": 4, \"column\": 3, \"value\": 0.018604159355163574, \"row_token\": \"004 ,\", \"col_token\": \"003 422\"}, {\"row\": 4, \"column\": 4, \"value\": 0.08108088374137878, \"row_token\": \"004 ,\", \"col_token\": \"004 ,\"}], \"data-7400ad3addde35492fd93296721de76c\": [{\"row\": 0, \"column\": 0, \"value\": 1.1111111640930176, \"row_token\": \"000 <s>\", \"col_token\": \"000 <s>\"}, {\"row\": 0, \"column\": 1, \"value\": 0.0, \"row_token\": \"000 <s>\", \"col_token\": \"001  \"}, {\"row\": 0, \"column\": 2, \"value\": 0.0, \"row_token\": \"000 <s>\", \"col_token\": \"002 In\"}, {\"row\": 0, \"column\": 3, \"value\": 0.0, \"row_token\": \"000 <s>\", \"col_token\": \"003 422\"}, {\"row\": 0, \"column\": 4, \"value\": 0.0, \"row_token\": \"000 <s>\", \"col_token\": \"004 ,\"}, {\"row\": 1, \"column\": 0, \"value\": 0.35457655787467957, \"row_token\": \"001  \", \"col_token\": \"000 <s>\"}, {\"row\": 1, \"column\": 1, \"value\": 0.7565346360206604, \"row_token\": \"001  \", \"col_token\": \"001  \"}, {\"row\": 1, \"column\": 2, \"value\": 0.0, \"row_token\": \"001  \", \"col_token\": \"002 In\"}, {\"row\": 1, \"column\": 3, \"value\": 0.0, \"row_token\": \"001  \", \"col_token\": \"003 422\"}, {\"row\": 1, \"column\": 4, \"value\": 0.0, \"row_token\": \"001  \", \"col_token\": \"004 ,\"}, {\"row\": 2, \"column\": 0, \"value\": 0.1004599779844284, \"row_token\": \"002 In\", \"col_token\": \"000 <s>\"}, {\"row\": 2, \"column\": 1, \"value\": 0.971515417098999, \"row_token\": \"002 In\", \"col_token\": \"001  \"}, {\"row\": 2, \"column\": 2, \"value\": 0.03913577273488045, \"row_token\": \"002 In\", \"col_token\": \"002 In\"}, {\"row\": 2, \"column\": 3, \"value\": 0.0, \"row_token\": \"002 In\", \"col_token\": \"003 422\"}, {\"row\": 2, \"column\": 4, \"value\": 0.0, \"row_token\": \"002 In\", \"col_token\": \"004 ,\"}, {\"row\": 3, \"column\": 0, \"value\": 0.5595341920852661, \"row_token\": \"003 422\", \"col_token\": \"000 <s>\"}, {\"row\": 3, \"column\": 1, \"value\": 0.36417460441589355, \"row_token\": \"003 422\", \"col_token\": \"001  \"}, {\"row\": 3, \"column\": 2, \"value\": 0.16767175495624542, \"row_token\": \"003 422\", \"col_token\": \"002 In\"}, {\"row\": 3, \"column\": 3, \"value\": 0.019730614498257637, \"row_token\": \"003 422\", \"col_token\": \"003 422\"}, {\"row\": 3, \"column\": 4, \"value\": 0.0, \"row_token\": \"003 422\", \"col_token\": \"004 ,\"}, {\"row\": 4, \"column\": 0, \"value\": 0.44412291049957275, \"row_token\": \"004 ,\", \"col_token\": \"000 <s>\"}, {\"row\": 4, \"column\": 1, \"value\": 0.5636825561523438, \"row_token\": \"004 ,\", \"col_token\": \"001  \"}, {\"row\": 4, \"column\": 2, \"value\": 0.028684038668870926, \"row_token\": \"004 ,\", \"col_token\": \"002 In\"}, {\"row\": 4, \"column\": 3, \"value\": 0.046774059534072876, \"row_token\": \"004 ,\", \"col_token\": \"003 422\"}, {\"row\": 4, \"column\": 4, \"value\": 0.027847636491060257, \"row_token\": \"004 ,\", \"col_token\": \"004 ,\"}], \"data-fc6f67b75fd09730e9c60ea02c8e9ae4\": [{\"row\": 0, \"column\": 0, \"value\": 1.1111111640930176, \"row_token\": \"000 <s>\", \"col_token\": \"000 <s>\"}, {\"row\": 0, \"column\": 1, \"value\": 0.0, \"row_token\": \"000 <s>\", \"col_token\": \"001  \"}, {\"row\": 0, \"column\": 2, \"value\": 0.0, \"row_token\": \"000 <s>\", \"col_token\": \"002 In\"}, {\"row\": 0, \"column\": 3, \"value\": 0.0, \"row_token\": \"000 <s>\", \"col_token\": \"003 422\"}, {\"row\": 0, \"column\": 4, \"value\": 0.0, \"row_token\": \"000 <s>\", \"col_token\": \"004 ,\"}, {\"row\": 1, \"column\": 0, \"value\": 1.018959879875183, \"row_token\": \"001  \", \"col_token\": \"000 <s>\"}, {\"row\": 1, \"column\": 1, \"value\": 0.0, \"row_token\": \"001  \", \"col_token\": \"001  \"}, {\"row\": 1, \"column\": 2, \"value\": 0.0, \"row_token\": \"001  \", \"col_token\": \"002 In\"}, {\"row\": 1, \"column\": 3, \"value\": 0.0, \"row_token\": \"001  \", \"col_token\": \"003 422\"}, {\"row\": 1, \"column\": 4, \"value\": 0.0, \"row_token\": \"001  \", \"col_token\": \"004 ,\"}, {\"row\": 2, \"column\": 0, \"value\": 0.0, \"row_token\": \"002 In\", \"col_token\": \"000 <s>\"}, {\"row\": 2, \"column\": 1, \"value\": 1.0146666765213013, \"row_token\": \"002 In\", \"col_token\": \"001  \"}, {\"row\": 2, \"column\": 2, \"value\": 0.08838386088609695, \"row_token\": \"002 In\", \"col_token\": \"002 In\"}, {\"row\": 2, \"column\": 3, \"value\": 0.0, \"row_token\": \"002 In\", \"col_token\": \"003 422\"}, {\"row\": 2, \"column\": 4, \"value\": 0.0, \"row_token\": \"002 In\", \"col_token\": \"004 ,\"}, {\"row\": 3, \"column\": 0, \"value\": 0.0531846359372139, \"row_token\": \"003 422\", \"col_token\": \"000 <s>\"}, {\"row\": 3, \"column\": 1, \"value\": 0.2085425853729248, \"row_token\": \"003 422\", \"col_token\": \"001  \"}, {\"row\": 3, \"column\": 2, \"value\": 0.06784143298864365, \"row_token\": \"003 422\", \"col_token\": \"002 In\"}, {\"row\": 3, \"column\": 3, \"value\": 0.7815424799919128, \"row_token\": \"003 422\", \"col_token\": \"003 422\"}, {\"row\": 3, \"column\": 4, \"value\": 0.0, \"row_token\": \"003 422\", \"col_token\": \"004 ,\"}, {\"row\": 4, \"column\": 0, \"value\": 0.03112352266907692, \"row_token\": \"004 ,\", \"col_token\": \"000 <s>\"}, {\"row\": 4, \"column\": 1, \"value\": 0.16903963685035706, \"row_token\": \"004 ,\", \"col_token\": \"001  \"}, {\"row\": 4, \"column\": 2, \"value\": 0.025407245382666588, \"row_token\": \"004 ,\", \"col_token\": \"002 In\"}, {\"row\": 4, \"column\": 3, \"value\": 0.674566924571991, \"row_token\": \"004 ,\", \"col_token\": \"003 422\"}, {\"row\": 4, \"column\": 4, \"value\": 0.2109738141298294, \"row_token\": \"004 ,\", \"col_token\": \"004 ,\"}], \"data-91c7536fa9a78a0ef35b26bc7afa6c01\": [{\"row\": 0, \"column\": 0, \"value\": 1.1111111640930176, \"row_token\": \"000 <s>\", \"col_token\": \"000 <s>\"}, {\"row\": 0, \"column\": 1, \"value\": 0.0, \"row_token\": \"000 <s>\", \"col_token\": \"001  \"}, {\"row\": 0, \"column\": 2, \"value\": 0.0, \"row_token\": \"000 <s>\", \"col_token\": \"002 In\"}, {\"row\": 0, \"column\": 3, \"value\": 0.0, \"row_token\": \"000 <s>\", \"col_token\": \"003 422\"}, {\"row\": 0, \"column\": 4, \"value\": 0.0, \"row_token\": \"000 <s>\", \"col_token\": \"004 ,\"}, {\"row\": 1, \"column\": 0, \"value\": 0.0657983347773552, \"row_token\": \"001  \", \"col_token\": \"000 <s>\"}, {\"row\": 1, \"column\": 1, \"value\": 1.045312762260437, \"row_token\": \"001  \", \"col_token\": \"001  \"}, {\"row\": 1, \"column\": 2, \"value\": 0.0, \"row_token\": \"001  \", \"col_token\": \"002 In\"}, {\"row\": 1, \"column\": 3, \"value\": 0.0, \"row_token\": \"001  \", \"col_token\": \"003 422\"}, {\"row\": 1, \"column\": 4, \"value\": 0.0, \"row_token\": \"001  \", \"col_token\": \"004 ,\"}, {\"row\": 2, \"column\": 0, \"value\": 0.04224256053566933, \"row_token\": \"002 In\", \"col_token\": \"000 <s>\"}, {\"row\": 2, \"column\": 1, \"value\": 1.0663974285125732, \"row_token\": \"002 In\", \"col_token\": \"001  \"}, {\"row\": 2, \"column\": 2, \"value\": 0.0024711727164685726, \"row_token\": \"002 In\", \"col_token\": \"002 In\"}, {\"row\": 2, \"column\": 3, \"value\": 0.0, \"row_token\": \"002 In\", \"col_token\": \"003 422\"}, {\"row\": 2, \"column\": 4, \"value\": 0.0, \"row_token\": \"002 In\", \"col_token\": \"004 ,\"}, {\"row\": 3, \"column\": 0, \"value\": 0.6288563013076782, \"row_token\": \"003 422\", \"col_token\": \"000 <s>\"}, {\"row\": 3, \"column\": 1, \"value\": 0.3008537292480469, \"row_token\": \"003 422\", \"col_token\": \"001  \"}, {\"row\": 3, \"column\": 2, \"value\": 0.08962003141641617, \"row_token\": \"003 422\", \"col_token\": \"002 In\"}, {\"row\": 3, \"column\": 3, \"value\": 0.09178106486797333, \"row_token\": \"003 422\", \"col_token\": \"003 422\"}, {\"row\": 3, \"column\": 4, \"value\": 0.0, \"row_token\": \"003 422\", \"col_token\": \"004 ,\"}, {\"row\": 4, \"column\": 0, \"value\": 0.7613952159881592, \"row_token\": \"004 ,\", \"col_token\": \"000 <s>\"}, {\"row\": 4, \"column\": 1, \"value\": 0.2762318253517151, \"row_token\": \"004 ,\", \"col_token\": \"001  \"}, {\"row\": 4, \"column\": 2, \"value\": 0.05759916082024574, \"row_token\": \"004 ,\", \"col_token\": \"002 In\"}, {\"row\": 4, \"column\": 3, \"value\": 0.002728848485276103, \"row_token\": \"004 ,\", \"col_token\": \"003 422\"}, {\"row\": 4, \"column\": 4, \"value\": 0.01315604243427515, \"row_token\": \"004 ,\", \"col_token\": \"004 ,\"}], \"data-95a4e74636d9a78e94af458f27a9ca2b\": [{\"row\": 0, \"column\": 0, \"value\": 0.0, \"row_token\": \"000 <s>\", \"col_token\": \"000 <s>\"}, {\"row\": 0, \"column\": 1, \"value\": 0.0, \"row_token\": \"000 <s>\", \"col_token\": \"001  \"}, {\"row\": 0, \"column\": 2, \"value\": 0.0, \"row_token\": \"000 <s>\", \"col_token\": \"002 In\"}, {\"row\": 0, \"column\": 3, \"value\": 0.0, \"row_token\": \"000 <s>\", \"col_token\": \"003 422\"}, {\"row\": 0, \"column\": 4, \"value\": 0.0, \"row_token\": \"000 <s>\", \"col_token\": \"004 ,\"}, {\"row\": 1, \"column\": 0, \"value\": 0.5719658136367798, \"row_token\": \"001  \", \"col_token\": \"000 <s>\"}, {\"row\": 1, \"column\": 1, \"value\": 0.5391453504562378, \"row_token\": \"001  \", \"col_token\": \"001  \"}, {\"row\": 1, \"column\": 2, \"value\": 0.0, \"row_token\": \"001  \", \"col_token\": \"002 In\"}, {\"row\": 1, \"column\": 3, \"value\": 0.0, \"row_token\": \"001  \", \"col_token\": \"003 422\"}, {\"row\": 1, \"column\": 4, \"value\": 0.0, \"row_token\": \"001  \", \"col_token\": \"004 ,\"}, {\"row\": 2, \"column\": 0, \"value\": 0.3529023230075836, \"row_token\": \"002 In\", \"col_token\": \"000 <s>\"}, {\"row\": 2, \"column\": 1, \"value\": 0.7463650107383728, \"row_token\": \"002 In\", \"col_token\": \"001  \"}, {\"row\": 2, \"column\": 2, \"value\": 0.011843805201351643, \"row_token\": \"002 In\", \"col_token\": \"002 In\"}, {\"row\": 2, \"column\": 3, \"value\": 0.0, \"row_token\": \"002 In\", \"col_token\": \"003 422\"}, {\"row\": 2, \"column\": 4, \"value\": 0.0, \"row_token\": \"002 In\", \"col_token\": \"004 ,\"}, {\"row\": 3, \"column\": 0, \"value\": 0.0, \"row_token\": \"003 422\", \"col_token\": \"000 <s>\"}, {\"row\": 3, \"column\": 1, \"value\": 0.0, \"row_token\": \"003 422\", \"col_token\": \"001  \"}, {\"row\": 3, \"column\": 2, \"value\": 0.587256908416748, \"row_token\": \"003 422\", \"col_token\": \"002 In\"}, {\"row\": 3, \"column\": 3, \"value\": 0.19526809453964233, \"row_token\": \"003 422\", \"col_token\": \"003 422\"}, {\"row\": 3, \"column\": 4, \"value\": 0.0, \"row_token\": \"003 422\", \"col_token\": \"004 ,\"}, {\"row\": 4, \"column\": 0, \"value\": 0.5870399475097656, \"row_token\": \"004 ,\", \"col_token\": \"000 <s>\"}, {\"row\": 4, \"column\": 1, \"value\": 0.4653186798095703, \"row_token\": \"004 ,\", \"col_token\": \"001  \"}, {\"row\": 4, \"column\": 2, \"value\": 0.0031489478424191475, \"row_token\": \"004 ,\", \"col_token\": \"002 In\"}, {\"row\": 4, \"column\": 3, \"value\": 0.03663017600774765, \"row_token\": \"004 ,\", \"col_token\": \"003 422\"}, {\"row\": 4, \"column\": 4, \"value\": 0.018973398953676224, \"row_token\": \"004 ,\", \"col_token\": \"004 ,\"}], \"data-5955cd4a362967c6fd8d1cf35fc73e2f\": [{\"row\": 0, \"column\": 0, \"value\": 1.1111111640930176, \"row_token\": \"000 <s>\", \"col_token\": \"000 <s>\"}, {\"row\": 0, \"column\": 1, \"value\": 0.0, \"row_token\": \"000 <s>\", \"col_token\": \"001  \"}, {\"row\": 0, \"column\": 2, \"value\": 0.0, \"row_token\": \"000 <s>\", \"col_token\": \"002 In\"}, {\"row\": 0, \"column\": 3, \"value\": 0.0, \"row_token\": \"000 <s>\", \"col_token\": \"003 422\"}, {\"row\": 0, \"column\": 4, \"value\": 0.0, \"row_token\": \"000 <s>\", \"col_token\": \"004 ,\"}, {\"row\": 1, \"column\": 0, \"value\": 0.3443049490451813, \"row_token\": \"001  \", \"col_token\": \"000 <s>\"}, {\"row\": 1, \"column\": 1, \"value\": 0.7668062448501587, \"row_token\": \"001  \", \"col_token\": \"001  \"}, {\"row\": 1, \"column\": 2, \"value\": 0.0, \"row_token\": \"001  \", \"col_token\": \"002 In\"}, {\"row\": 1, \"column\": 3, \"value\": 0.0, \"row_token\": \"001  \", \"col_token\": \"003 422\"}, {\"row\": 1, \"column\": 4, \"value\": 0.0, \"row_token\": \"001  \", \"col_token\": \"004 ,\"}, {\"row\": 2, \"column\": 0, \"value\": 0.045885682106018066, \"row_token\": \"002 In\", \"col_token\": \"000 <s>\"}, {\"row\": 2, \"column\": 1, \"value\": 0.2755952477455139, \"row_token\": \"002 In\", \"col_token\": \"001  \"}, {\"row\": 2, \"column\": 2, \"value\": 0.7896302938461304, \"row_token\": \"002 In\", \"col_token\": \"002 In\"}, {\"row\": 2, \"column\": 3, \"value\": 0.0, \"row_token\": \"002 In\", \"col_token\": \"003 422\"}, {\"row\": 2, \"column\": 4, \"value\": 0.0, \"row_token\": \"002 In\", \"col_token\": \"004 ,\"}, {\"row\": 3, \"column\": 0, \"value\": 0.7165036797523499, \"row_token\": \"003 422\", \"col_token\": \"000 <s>\"}, {\"row\": 3, \"column\": 1, \"value\": 0.06209166347980499, \"row_token\": \"003 422\", \"col_token\": \"001  \"}, {\"row\": 3, \"column\": 2, \"value\": 0.1922135353088379, \"row_token\": \"003 422\", \"col_token\": \"002 In\"}, {\"row\": 3, \"column\": 3, \"value\": 0.14030228555202484, \"row_token\": \"003 422\", \"col_token\": \"003 422\"}, {\"row\": 3, \"column\": 4, \"value\": 0.0, \"row_token\": \"003 422\", \"col_token\": \"004 ,\"}, {\"row\": 4, \"column\": 0, \"value\": 0.007924674078822136, \"row_token\": \"004 ,\", \"col_token\": \"000 <s>\"}, {\"row\": 4, \"column\": 1, \"value\": 0.0017502675764262676, \"row_token\": \"004 ,\", \"col_token\": \"001  \"}, {\"row\": 4, \"column\": 2, \"value\": 0.005943437106907368, \"row_token\": \"004 ,\", \"col_token\": \"002 In\"}, {\"row\": 4, \"column\": 3, \"value\": 1.0927631855010986, \"row_token\": \"004 ,\", \"col_token\": \"003 422\"}, {\"row\": 4, \"column\": 4, \"value\": 0.002729615895077586, \"row_token\": \"004 ,\", \"col_token\": \"004 ,\"}], \"data-66bd8f18ab1554c482e0f41bdeac83c6\": [{\"row\": 0, \"column\": 0, \"value\": 1.1111111640930176, \"row_token\": \"000 <s>\", \"col_token\": \"000 <s>\"}, {\"row\": 0, \"column\": 1, \"value\": 0.0, \"row_token\": \"000 <s>\", \"col_token\": \"001  \"}, {\"row\": 0, \"column\": 2, \"value\": 0.0, \"row_token\": \"000 <s>\", \"col_token\": \"002 In\"}, {\"row\": 0, \"column\": 3, \"value\": 0.0, \"row_token\": \"000 <s>\", \"col_token\": \"003 422\"}, {\"row\": 0, \"column\": 4, \"value\": 0.0, \"row_token\": \"000 <s>\", \"col_token\": \"004 ,\"}, {\"row\": 1, \"column\": 0, \"value\": 0.8845680952072144, \"row_token\": \"001  \", \"col_token\": \"000 <s>\"}, {\"row\": 1, \"column\": 1, \"value\": 0.22654308378696442, \"row_token\": \"001  \", \"col_token\": \"001  \"}, {\"row\": 1, \"column\": 2, \"value\": 0.0, \"row_token\": \"001  \", \"col_token\": \"002 In\"}, {\"row\": 1, \"column\": 3, \"value\": 0.0, \"row_token\": \"001  \", \"col_token\": \"003 422\"}, {\"row\": 1, \"column\": 4, \"value\": 0.0, \"row_token\": \"001  \", \"col_token\": \"004 ,\"}, {\"row\": 2, \"column\": 0, \"value\": 1.1107536554336548, \"row_token\": \"002 In\", \"col_token\": \"000 <s>\"}, {\"row\": 2, \"column\": 1, \"value\": 0.00020213813695590943, \"row_token\": \"002 In\", \"col_token\": \"001  \"}, {\"row\": 2, \"column\": 2, \"value\": 0.0001552882749820128, \"row_token\": \"002 In\", \"col_token\": \"002 In\"}, {\"row\": 2, \"column\": 3, \"value\": 0.0, \"row_token\": \"002 In\", \"col_token\": \"003 422\"}, {\"row\": 2, \"column\": 4, \"value\": 0.0, \"row_token\": \"002 In\", \"col_token\": \"004 ,\"}, {\"row\": 3, \"column\": 0, \"value\": 0.25783053040504456, \"row_token\": \"003 422\", \"col_token\": \"000 <s>\"}, {\"row\": 3, \"column\": 1, \"value\": 0.07830142229795456, \"row_token\": \"003 422\", \"col_token\": \"001  \"}, {\"row\": 3, \"column\": 2, \"value\": 0.12268871068954468, \"row_token\": \"003 422\", \"col_token\": \"002 In\"}, {\"row\": 3, \"column\": 3, \"value\": 0.6522905230522156, \"row_token\": \"003 422\", \"col_token\": \"003 422\"}, {\"row\": 3, \"column\": 4, \"value\": 0.0, \"row_token\": \"003 422\", \"col_token\": \"004 ,\"}, {\"row\": 4, \"column\": 0, \"value\": 0.000602603773586452, \"row_token\": \"004 ,\", \"col_token\": \"000 <s>\"}, {\"row\": 4, \"column\": 1, \"value\": 0.0004979483783245087, \"row_token\": \"004 ,\", \"col_token\": \"001  \"}, {\"row\": 4, \"column\": 2, \"value\": 0.004103426821529865, \"row_token\": \"004 ,\", \"col_token\": \"002 In\"}, {\"row\": 4, \"column\": 3, \"value\": 0.022037675604224205, \"row_token\": \"004 ,\", \"col_token\": \"003 422\"}, {\"row\": 4, \"column\": 4, \"value\": 1.083869457244873, \"row_token\": \"004 ,\", \"col_token\": \"004 ,\"}], \"data-029e4b5dd04bc6522d57816b92b82b6f\": [{\"row\": 0, \"column\": 0, \"value\": 1.1111111640930176, \"row_token\": \"000 <s>\", \"col_token\": \"000 <s>\"}, {\"row\": 0, \"column\": 1, \"value\": 0.0, \"row_token\": \"000 <s>\", \"col_token\": \"001  \"}, {\"row\": 0, \"column\": 2, \"value\": 0.0, \"row_token\": \"000 <s>\", \"col_token\": \"002 In\"}, {\"row\": 0, \"column\": 3, \"value\": 0.0, \"row_token\": \"000 <s>\", \"col_token\": \"003 422\"}, {\"row\": 0, \"column\": 4, \"value\": 0.0, \"row_token\": \"000 <s>\", \"col_token\": \"004 ,\"}, {\"row\": 1, \"column\": 0, \"value\": 0.9323006272315979, \"row_token\": \"001  \", \"col_token\": \"000 <s>\"}, {\"row\": 1, \"column\": 1, \"value\": 0.17881058156490326, \"row_token\": \"001  \", \"col_token\": \"001  \"}, {\"row\": 1, \"column\": 2, \"value\": 0.0, \"row_token\": \"001  \", \"col_token\": \"002 In\"}, {\"row\": 1, \"column\": 3, \"value\": 0.0, \"row_token\": \"001  \", \"col_token\": \"003 422\"}, {\"row\": 1, \"column\": 4, \"value\": 0.0, \"row_token\": \"001  \", \"col_token\": \"004 ,\"}, {\"row\": 2, \"column\": 0, \"value\": 0.8137443661689758, \"row_token\": \"002 In\", \"col_token\": \"000 <s>\"}, {\"row\": 2, \"column\": 1, \"value\": 0.1136494129896164, \"row_token\": \"002 In\", \"col_token\": \"001  \"}, {\"row\": 2, \"column\": 2, \"value\": 0.18371741473674774, \"row_token\": \"002 In\", \"col_token\": \"002 In\"}, {\"row\": 2, \"column\": 3, \"value\": 0.0, \"row_token\": \"002 In\", \"col_token\": \"003 422\"}, {\"row\": 2, \"column\": 4, \"value\": 0.0, \"row_token\": \"002 In\", \"col_token\": \"004 ,\"}, {\"row\": 3, \"column\": 0, \"value\": 0.7515188455581665, \"row_token\": \"003 422\", \"col_token\": \"000 <s>\"}, {\"row\": 3, \"column\": 1, \"value\": 0.18796245753765106, \"row_token\": \"003 422\", \"col_token\": \"001  \"}, {\"row\": 3, \"column\": 2, \"value\": 0.0, \"row_token\": \"003 422\", \"col_token\": \"002 In\"}, {\"row\": 3, \"column\": 3, \"value\": 0.15376251935958862, \"row_token\": \"003 422\", \"col_token\": \"003 422\"}, {\"row\": 3, \"column\": 4, \"value\": 0.0, \"row_token\": \"003 422\", \"col_token\": \"004 ,\"}, {\"row\": 4, \"column\": 0, \"value\": 0.7145721316337585, \"row_token\": \"004 ,\", \"col_token\": \"000 <s>\"}, {\"row\": 4, \"column\": 1, \"value\": 0.13422447443008423, \"row_token\": \"004 ,\", \"col_token\": \"001  \"}, {\"row\": 4, \"column\": 2, \"value\": 0.062394775450229645, \"row_token\": \"004 ,\", \"col_token\": \"002 In\"}, {\"row\": 4, \"column\": 3, \"value\": 0.11074366420507431, \"row_token\": \"004 ,\", \"col_token\": \"003 422\"}, {\"row\": 4, \"column\": 4, \"value\": 0.08917611837387085, \"row_token\": \"004 ,\", \"col_token\": \"004 ,\"}]}}, {\"mode\": \"vega-lite\"});\n",
              "</script>"
            ],
            "text/plain": [
              "alt.HConcatChart(...)"
            ]
          },
          "metadata": {},
          "execution_count": 384
        }
      ]
    }
  ]
}